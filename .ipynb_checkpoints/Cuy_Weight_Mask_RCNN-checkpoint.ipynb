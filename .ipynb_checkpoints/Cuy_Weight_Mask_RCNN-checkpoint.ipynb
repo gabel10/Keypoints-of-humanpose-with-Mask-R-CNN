{
 "cells": [
  {
   "cell_type": "markdown",
   "metadata": {
    "id": "2Ljaaf407nwS"
   },
   "source": [
    "## Install required packages"
   ]
  },
  {
   "cell_type": "code",
   "execution_count": null,
   "metadata": {
    "colab": {
     "base_uri": "https://localhost:8080/"
    },
    "id": "TjbVKYt67NJG",
    "outputId": "7c252f3c-6c7d-449b-935f-9305a03c5500"
   },
   "outputs": [
    {
     "name": "stdout",
     "output_type": "stream",
     "text": [
      "/root\n"
     ]
    }
   ],
   "source": [
    "%cd\n",
    "!git clone --quiet https://github.com/gabel10/Weight-Mask-R-CNN.git"
   ]
  },
  {
   "cell_type": "code",
   "execution_count": null,
   "metadata": {
    "colab": {
     "base_uri": "https://localhost:8080/"
    },
    "id": "DZ7vNdWx2MAy",
    "outputId": "7038515e-065a-4ad7-a768-71d9a91b2562"
   },
   "outputs": [
    {
     "name": "stdout",
     "output_type": "stream",
     "text": [
      "Uninstalling keras-nightly-2.5.0.dev2021032900:\n",
      "  Would remove:\n",
      "    /usr/local/lib/python3.7/dist-packages/keras/*\n",
      "    /usr/local/lib/python3.7/dist-packages/keras_nightly-2.5.0.dev2021032900.dist-info/*\n",
      "  Would not remove (might be manually added):\n",
      "    /usr/local/lib/python3.7/dist-packages/keras/applications/resnet50.py\n",
      "    /usr/local/lib/python3.7/dist-packages/keras/engine/network.py\n",
      "    /usr/local/lib/python3.7/dist-packages/keras/engine/topology.py\n",
      "    /usr/local/lib/python3.7/dist-packages/keras/initializers.py\n",
      "    /usr/local/lib/python3.7/dist-packages/keras/layers/experimental/__init__.py\n",
      "    /usr/local/lib/python3.7/dist-packages/keras/layers/experimental/preprocessing/__init__.py\n",
      "    /usr/local/lib/python3.7/dist-packages/keras/objectives.py\n",
      "    /usr/local/lib/python3.7/dist-packages/keras/optimizers/__init__.py\n",
      "    /usr/local/lib/python3.7/dist-packages/keras/optimizers/schedules/__init__.py\n",
      "    /usr/local/lib/python3.7/dist-packages/keras/utils/test_utils.py\n",
      "Proceed (y/n)? y\n",
      "  Successfully uninstalled keras-nightly-2.5.0.dev2021032900\n",
      "Uninstalling tensorflow-2.5.0:\n",
      "  Successfully uninstalled tensorflow-2.5.0\n"
     ]
    }
   ],
   "source": [
    "!pip uninstall keras-nightly\n",
    "!pip uninstall -y tensorflow"
   ]
  },
  {
   "cell_type": "code",
   "execution_count": null,
   "metadata": {
    "colab": {
     "base_uri": "https://localhost:8080/"
    },
    "id": "xykMetyJ7566",
    "outputId": "f6a853a1-56b5-4545-861c-e964b133a90f"
   },
   "outputs": [
    {
     "name": "stdout",
     "output_type": "stream",
     "text": [
      "/root/Weight-Mask-R-CNN\n",
      "Requirement already satisfied: numpy in /usr/local/lib/python3.7/dist-packages (from -r requirements.txt (line 1)) (1.19.5)\n",
      "Collecting scipy==1.2.2\n",
      "\u001b[?25l  Downloading https://files.pythonhosted.org/packages/f3/84/2cc37b97e96da0be03d5dcebdd967214cae14b14b0131398b374ea89c50e/scipy-1.2.2-cp37-cp37m-manylinux1_x86_64.whl (24.8MB)\n",
      "\u001b[K     |████████████████████████████████| 24.8MB 124kB/s \n",
      "\u001b[?25hRequirement already satisfied: Pillow in /usr/local/lib/python3.7/dist-packages (from -r requirements.txt (line 3)) (7.1.2)\n",
      "Requirement already satisfied: cython in /usr/local/lib/python3.7/dist-packages (from -r requirements.txt (line 4)) (0.29.23)\n",
      "Requirement already satisfied: matplotlib in /usr/local/lib/python3.7/dist-packages (from -r requirements.txt (line 5)) (3.2.2)\n",
      "Requirement already satisfied: scikit-image in /usr/local/lib/python3.7/dist-packages (from -r requirements.txt (line 6)) (0.16.2)\n",
      "Collecting tensorflow==1.14.0\n",
      "\u001b[?25l  Downloading https://files.pythonhosted.org/packages/f4/28/96efba1a516cdacc2e2d6d081f699c001d414cc8ca3250e6d59ae657eb2b/tensorflow-1.14.0-cp37-cp37m-manylinux1_x86_64.whl (109.3MB)\n",
      "\u001b[K     |████████████████████████████████| 109.3MB 39kB/s \n",
      "\u001b[?25hCollecting tensorflow-gpu==1.14.0\n",
      "\u001b[?25l  Downloading https://files.pythonhosted.org/packages/32/67/559ca8408431c37ad3a17e859c8c291ea82f092354074baef482b98ffb7b/tensorflow_gpu-1.14.0-cp37-cp37m-manylinux1_x86_64.whl (377.1MB)\n",
      "\u001b[K     |████████████████████████████████| 377.1MB 44kB/s \n",
      "\u001b[?25hCollecting keras==2.1.5\n",
      "\u001b[?25l  Downloading https://files.pythonhosted.org/packages/ba/65/e4aff762b8696ec0626a6654b1e73b396fcc8b7cc6b98d78a1bc53b85b48/Keras-2.1.5-py2.py3-none-any.whl (334kB)\n",
      "\u001b[K     |████████████████████████████████| 337kB 34.4MB/s \n",
      "\u001b[?25hRequirement already satisfied: opencv-python in /usr/local/lib/python3.7/dist-packages (from -r requirements.txt (line 10)) (4.1.2.30)\n",
      "Collecting h5py==2.10.0\n",
      "\u001b[?25l  Downloading https://files.pythonhosted.org/packages/3f/c0/abde58b837e066bca19a3f7332d9d0493521d7dd6b48248451a9e3fe2214/h5py-2.10.0-cp37-cp37m-manylinux1_x86_64.whl (2.9MB)\n",
      "\u001b[K     |████████████████████████████████| 2.9MB 56.9MB/s \n",
      "\u001b[?25hRequirement already satisfied: imgaug in /usr/local/lib/python3.7/dist-packages (from -r requirements.txt (line 12)) (0.2.9)\n",
      "Requirement already satisfied: IPython[all] in /usr/local/lib/python3.7/dist-packages (from -r requirements.txt (line 13)) (5.5.0)\n",
      "Requirement already satisfied: pycocotools in /usr/local/lib/python3.7/dist-packages (from -r requirements.txt (line 14)) (2.0.2)\n",
      "Requirement already satisfied: pyparsing!=2.0.4,!=2.1.2,!=2.1.6,>=2.0.1 in /usr/local/lib/python3.7/dist-packages (from matplotlib->-r requirements.txt (line 5)) (2.4.7)\n",
      "Requirement already satisfied: kiwisolver>=1.0.1 in /usr/local/lib/python3.7/dist-packages (from matplotlib->-r requirements.txt (line 5)) (1.3.1)\n",
      "Requirement already satisfied: python-dateutil>=2.1 in /usr/local/lib/python3.7/dist-packages (from matplotlib->-r requirements.txt (line 5)) (2.8.1)\n",
      "Requirement already satisfied: cycler>=0.10 in /usr/local/lib/python3.7/dist-packages (from matplotlib->-r requirements.txt (line 5)) (0.10.0)\n",
      "Requirement already satisfied: networkx>=2.0 in /usr/local/lib/python3.7/dist-packages (from scikit-image->-r requirements.txt (line 6)) (2.5.1)\n",
      "Requirement already satisfied: PyWavelets>=0.4.0 in /usr/local/lib/python3.7/dist-packages (from scikit-image->-r requirements.txt (line 6)) (1.1.1)\n",
      "Requirement already satisfied: imageio>=2.3.0 in /usr/local/lib/python3.7/dist-packages (from scikit-image->-r requirements.txt (line 6)) (2.4.1)\n",
      "Requirement already satisfied: astor>=0.6.0 in /usr/local/lib/python3.7/dist-packages (from tensorflow==1.14.0->-r requirements.txt (line 7)) (0.8.1)\n",
      "Collecting tensorboard<1.15.0,>=1.14.0\n",
      "\u001b[?25l  Downloading https://files.pythonhosted.org/packages/91/2d/2ed263449a078cd9c8a9ba50ebd50123adf1f8cfbea1492f9084169b89d9/tensorboard-1.14.0-py3-none-any.whl (3.1MB)\n",
      "\u001b[K     |████████████████████████████████| 3.2MB 11.8MB/s \n",
      "\u001b[?25hRequirement already satisfied: protobuf>=3.6.1 in /usr/local/lib/python3.7/dist-packages (from tensorflow==1.14.0->-r requirements.txt (line 7)) (3.12.4)\n",
      "Requirement already satisfied: grpcio>=1.8.6 in /usr/local/lib/python3.7/dist-packages (from tensorflow==1.14.0->-r requirements.txt (line 7)) (1.34.1)\n",
      "Requirement already satisfied: termcolor>=1.1.0 in /usr/local/lib/python3.7/dist-packages (from tensorflow==1.14.0->-r requirements.txt (line 7)) (1.1.0)\n",
      "Requirement already satisfied: keras-preprocessing>=1.0.5 in /usr/local/lib/python3.7/dist-packages (from tensorflow==1.14.0->-r requirements.txt (line 7)) (1.1.2)\n",
      "Requirement already satisfied: gast>=0.2.0 in /usr/local/lib/python3.7/dist-packages (from tensorflow==1.14.0->-r requirements.txt (line 7)) (0.4.0)\n",
      "Collecting tensorflow-estimator<1.15.0rc0,>=1.14.0rc0\n",
      "\u001b[?25l  Downloading https://files.pythonhosted.org/packages/3c/d5/21860a5b11caf0678fbc8319341b0ae21a07156911132e0e71bffed0510d/tensorflow_estimator-1.14.0-py2.py3-none-any.whl (488kB)\n",
      "\u001b[K     |████████████████████████████████| 491kB 57.5MB/s \n",
      "\u001b[?25hRequirement already satisfied: google-pasta>=0.1.6 in /usr/local/lib/python3.7/dist-packages (from tensorflow==1.14.0->-r requirements.txt (line 7)) (0.2.0)\n",
      "Requirement already satisfied: absl-py>=0.7.0 in /usr/local/lib/python3.7/dist-packages (from tensorflow==1.14.0->-r requirements.txt (line 7)) (0.12.0)\n",
      "Requirement already satisfied: wheel>=0.26 in /usr/local/lib/python3.7/dist-packages (from tensorflow==1.14.0->-r requirements.txt (line 7)) (0.36.2)\n",
      "Requirement already satisfied: six>=1.10.0 in /usr/local/lib/python3.7/dist-packages (from tensorflow==1.14.0->-r requirements.txt (line 7)) (1.15.0)\n",
      "Collecting keras-applications>=1.0.6\n",
      "\u001b[?25l  Downloading https://files.pythonhosted.org/packages/71/e3/19762fdfc62877ae9102edf6342d71b28fbfd9dea3d2f96a882ce099b03f/Keras_Applications-1.0.8-py3-none-any.whl (50kB)\n",
      "\u001b[K     |████████████████████████████████| 51kB 7.0MB/s \n",
      "\u001b[?25hRequirement already satisfied: wrapt>=1.11.1 in /usr/local/lib/python3.7/dist-packages (from tensorflow==1.14.0->-r requirements.txt (line 7)) (1.12.1)\n",
      "Requirement already satisfied: pyyaml in /usr/local/lib/python3.7/dist-packages (from keras==2.1.5->-r requirements.txt (line 9)) (3.13)\n",
      "Requirement already satisfied: Shapely in /usr/local/lib/python3.7/dist-packages (from imgaug->-r requirements.txt (line 12)) (1.7.1)\n",
      "Requirement already satisfied: pexpect; sys_platform != \"win32\" in /usr/local/lib/python3.7/dist-packages (from IPython[all]->-r requirements.txt (line 13)) (4.8.0)\n",
      "Requirement already satisfied: pickleshare in /usr/local/lib/python3.7/dist-packages (from IPython[all]->-r requirements.txt (line 13)) (0.7.5)\n",
      "Requirement already satisfied: traitlets>=4.2 in /usr/local/lib/python3.7/dist-packages (from IPython[all]->-r requirements.txt (line 13)) (5.0.5)\n",
      "Requirement already satisfied: setuptools>=18.5 in /usr/local/lib/python3.7/dist-packages (from IPython[all]->-r requirements.txt (line 13)) (57.0.0)\n",
      "Requirement already satisfied: decorator in /usr/local/lib/python3.7/dist-packages (from IPython[all]->-r requirements.txt (line 13)) (4.4.2)\n",
      "Requirement already satisfied: prompt-toolkit<2.0.0,>=1.0.4 in /usr/local/lib/python3.7/dist-packages (from IPython[all]->-r requirements.txt (line 13)) (1.0.18)\n",
      "Requirement already satisfied: pygments in /usr/local/lib/python3.7/dist-packages (from IPython[all]->-r requirements.txt (line 13)) (2.6.1)\n",
      "Requirement already satisfied: simplegeneric>0.8 in /usr/local/lib/python3.7/dist-packages (from IPython[all]->-r requirements.txt (line 13)) (0.8.1)\n",
      "Requirement already satisfied: ipykernel; extra == \"all\" in /usr/local/lib/python3.7/dist-packages (from IPython[all]->-r requirements.txt (line 13)) (4.10.1)\n",
      "Requirement already satisfied: requests; extra == \"all\" in /usr/local/lib/python3.7/dist-packages (from IPython[all]->-r requirements.txt (line 13)) (2.23.0)\n",
      "Requirement already satisfied: ipywidgets; extra == \"all\" in /usr/local/lib/python3.7/dist-packages (from IPython[all]->-r requirements.txt (line 13)) (7.6.3)\n",
      "Requirement already satisfied: Sphinx>=1.3; extra == \"all\" in /usr/local/lib/python3.7/dist-packages (from IPython[all]->-r requirements.txt (line 13)) (1.8.5)\n",
      "Collecting ipyparallel; extra == \"all\"\n",
      "\u001b[?25l  Downloading https://files.pythonhosted.org/packages/3b/e9/03a9189eb39276396309faf28bf833b4328befe4513bbf375b811a36a076/ipyparallel-6.3.0-py3-none-any.whl (199kB)\n",
      "\u001b[K     |████████████████████████████████| 204kB 53.7MB/s \n",
      "\u001b[?25hRequirement already satisfied: testpath; extra == \"all\" in /usr/local/lib/python3.7/dist-packages (from IPython[all]->-r requirements.txt (line 13)) (0.5.0)\n",
      "Collecting nose>=0.10.1; extra == \"all\"\n",
      "\u001b[?25l  Downloading https://files.pythonhosted.org/packages/15/d8/dd071918c040f50fa1cf80da16423af51ff8ce4a0f2399b7bf8de45ac3d9/nose-1.3.7-py3-none-any.whl (154kB)\n",
      "\u001b[K     |████████████████████████████████| 163kB 53.7MB/s \n",
      "\u001b[?25hRequirement already satisfied: nbconvert; extra == \"all\" in /usr/local/lib/python3.7/dist-packages (from IPython[all]->-r requirements.txt (line 13)) (5.6.1)\n",
      "Requirement already satisfied: qtconsole; extra == \"all\" in /usr/local/lib/python3.7/dist-packages (from IPython[all]->-r requirements.txt (line 13)) (5.1.0)\n",
      "Requirement already satisfied: notebook; extra == \"all\" in /usr/local/lib/python3.7/dist-packages (from IPython[all]->-r requirements.txt (line 13)) (5.3.1)\n",
      "Requirement already satisfied: nbformat; extra == \"all\" in /usr/local/lib/python3.7/dist-packages (from IPython[all]->-r requirements.txt (line 13)) (5.1.3)\n",
      "Requirement already satisfied: werkzeug>=0.11.15 in /usr/local/lib/python3.7/dist-packages (from tensorboard<1.15.0,>=1.14.0->tensorflow==1.14.0->-r requirements.txt (line 7)) (1.0.1)\n",
      "Requirement already satisfied: markdown>=2.6.8 in /usr/local/lib/python3.7/dist-packages (from tensorboard<1.15.0,>=1.14.0->tensorflow==1.14.0->-r requirements.txt (line 7)) (3.3.4)\n",
      "Requirement already satisfied: ptyprocess>=0.5 in /usr/local/lib/python3.7/dist-packages (from pexpect; sys_platform != \"win32\"->IPython[all]->-r requirements.txt (line 13)) (0.7.0)\n",
      "Requirement already satisfied: ipython-genutils in /usr/local/lib/python3.7/dist-packages (from traitlets>=4.2->IPython[all]->-r requirements.txt (line 13)) (0.2.0)\n",
      "Requirement already satisfied: wcwidth in /usr/local/lib/python3.7/dist-packages (from prompt-toolkit<2.0.0,>=1.0.4->IPython[all]->-r requirements.txt (line 13)) (0.2.5)\n",
      "Requirement already satisfied: tornado>=4.0 in /usr/local/lib/python3.7/dist-packages (from ipykernel; extra == \"all\"->IPython[all]->-r requirements.txt (line 13)) (5.1.1)\n",
      "Requirement already satisfied: jupyter-client in /usr/local/lib/python3.7/dist-packages (from ipykernel; extra == \"all\"->IPython[all]->-r requirements.txt (line 13)) (5.3.5)\n",
      "Requirement already satisfied: chardet<4,>=3.0.2 in /usr/local/lib/python3.7/dist-packages (from requests; extra == \"all\"->IPython[all]->-r requirements.txt (line 13)) (3.0.4)\n",
      "Requirement already satisfied: certifi>=2017.4.17 in /usr/local/lib/python3.7/dist-packages (from requests; extra == \"all\"->IPython[all]->-r requirements.txt (line 13)) (2020.12.5)\n",
      "Requirement already satisfied: urllib3!=1.25.0,!=1.25.1,<1.26,>=1.21.1 in /usr/local/lib/python3.7/dist-packages (from requests; extra == \"all\"->IPython[all]->-r requirements.txt (line 13)) (1.24.3)\n",
      "Requirement already satisfied: idna<3,>=2.5 in /usr/local/lib/python3.7/dist-packages (from requests; extra == \"all\"->IPython[all]->-r requirements.txt (line 13)) (2.10)\n",
      "Requirement already satisfied: jupyterlab-widgets>=1.0.0; python_version >= \"3.6\" in /usr/local/lib/python3.7/dist-packages (from ipywidgets; extra == \"all\"->IPython[all]->-r requirements.txt (line 13)) (1.0.0)\n",
      "Requirement already satisfied: widgetsnbextension~=3.5.0 in /usr/local/lib/python3.7/dist-packages (from ipywidgets; extra == \"all\"->IPython[all]->-r requirements.txt (line 13)) (3.5.1)\n",
      "Requirement already satisfied: babel!=2.0,>=1.3 in /usr/local/lib/python3.7/dist-packages (from Sphinx>=1.3; extra == \"all\"->IPython[all]->-r requirements.txt (line 13)) (2.9.1)\n",
      "Requirement already satisfied: imagesize in /usr/local/lib/python3.7/dist-packages (from Sphinx>=1.3; extra == \"all\"->IPython[all]->-r requirements.txt (line 13)) (1.2.0)\n",
      "Requirement already satisfied: alabaster<0.8,>=0.7 in /usr/local/lib/python3.7/dist-packages (from Sphinx>=1.3; extra == \"all\"->IPython[all]->-r requirements.txt (line 13)) (0.7.12)\n",
      "Requirement already satisfied: snowballstemmer>=1.1 in /usr/local/lib/python3.7/dist-packages (from Sphinx>=1.3; extra == \"all\"->IPython[all]->-r requirements.txt (line 13)) (2.1.0)\n",
      "Requirement already satisfied: docutils>=0.11 in /usr/local/lib/python3.7/dist-packages (from Sphinx>=1.3; extra == \"all\"->IPython[all]->-r requirements.txt (line 13)) (0.17.1)\n",
      "Requirement already satisfied: Jinja2>=2.3 in /usr/local/lib/python3.7/dist-packages (from Sphinx>=1.3; extra == \"all\"->IPython[all]->-r requirements.txt (line 13)) (2.11.3)\n",
      "Requirement already satisfied: sphinxcontrib-websupport in /usr/local/lib/python3.7/dist-packages (from Sphinx>=1.3; extra == \"all\"->IPython[all]->-r requirements.txt (line 13)) (1.2.4)\n",
      "Requirement already satisfied: packaging in /usr/local/lib/python3.7/dist-packages (from Sphinx>=1.3; extra == \"all\"->IPython[all]->-r requirements.txt (line 13)) (20.9)\n",
      "Requirement already satisfied: pyzmq>=13 in /usr/local/lib/python3.7/dist-packages (from ipyparallel; extra == \"all\"->IPython[all]->-r requirements.txt (line 13)) (22.0.3)\n",
      "Requirement already satisfied: bleach in /usr/local/lib/python3.7/dist-packages (from nbconvert; extra == \"all\"->IPython[all]->-r requirements.txt (line 13)) (3.3.0)\n",
      "Requirement already satisfied: jupyter-core in /usr/local/lib/python3.7/dist-packages (from nbconvert; extra == \"all\"->IPython[all]->-r requirements.txt (line 13)) (4.7.1)\n",
      "Requirement already satisfied: defusedxml in /usr/local/lib/python3.7/dist-packages (from nbconvert; extra == \"all\"->IPython[all]->-r requirements.txt (line 13)) (0.7.1)\n",
      "Requirement already satisfied: mistune<2,>=0.8.1 in /usr/local/lib/python3.7/dist-packages (from nbconvert; extra == \"all\"->IPython[all]->-r requirements.txt (line 13)) (0.8.4)\n",
      "Requirement already satisfied: pandocfilters>=1.4.1 in /usr/local/lib/python3.7/dist-packages (from nbconvert; extra == \"all\"->IPython[all]->-r requirements.txt (line 13)) (1.4.3)\n",
      "Requirement already satisfied: entrypoints>=0.2.2 in /usr/local/lib/python3.7/dist-packages (from nbconvert; extra == \"all\"->IPython[all]->-r requirements.txt (line 13)) (0.3)\n",
      "Requirement already satisfied: qtpy in /usr/local/lib/python3.7/dist-packages (from qtconsole; extra == \"all\"->IPython[all]->-r requirements.txt (line 13)) (1.9.0)\n",
      "Requirement already satisfied: terminado>=0.8.1 in /usr/local/lib/python3.7/dist-packages (from notebook; extra == \"all\"->IPython[all]->-r requirements.txt (line 13)) (0.10.0)\n",
      "Requirement already satisfied: Send2Trash in /usr/local/lib/python3.7/dist-packages (from notebook; extra == \"all\"->IPython[all]->-r requirements.txt (line 13)) (1.5.0)\n",
      "Requirement already satisfied: jsonschema!=2.5.0,>=2.4 in /usr/local/lib/python3.7/dist-packages (from nbformat; extra == \"all\"->IPython[all]->-r requirements.txt (line 13)) (2.6.0)\n",
      "Requirement already satisfied: importlib-metadata; python_version < \"3.8\" in /usr/local/lib/python3.7/dist-packages (from markdown>=2.6.8->tensorboard<1.15.0,>=1.14.0->tensorflow==1.14.0->-r requirements.txt (line 7)) (4.0.1)\n",
      "Requirement already satisfied: pytz>=2015.7 in /usr/local/lib/python3.7/dist-packages (from babel!=2.0,>=1.3->Sphinx>=1.3; extra == \"all\"->IPython[all]->-r requirements.txt (line 13)) (2018.9)\n",
      "Requirement already satisfied: MarkupSafe>=0.23 in /usr/local/lib/python3.7/dist-packages (from Jinja2>=2.3->Sphinx>=1.3; extra == \"all\"->IPython[all]->-r requirements.txt (line 13)) (2.0.1)\n",
      "Requirement already satisfied: sphinxcontrib-serializinghtml in /usr/local/lib/python3.7/dist-packages (from sphinxcontrib-websupport->Sphinx>=1.3; extra == \"all\"->IPython[all]->-r requirements.txt (line 13)) (1.1.4)\n",
      "Requirement already satisfied: webencodings in /usr/local/lib/python3.7/dist-packages (from bleach->nbconvert; extra == \"all\"->IPython[all]->-r requirements.txt (line 13)) (0.5.1)\n",
      "Requirement already satisfied: typing-extensions>=3.6.4; python_version < \"3.8\" in /usr/local/lib/python3.7/dist-packages (from importlib-metadata; python_version < \"3.8\"->markdown>=2.6.8->tensorboard<1.15.0,>=1.14.0->tensorflow==1.14.0->-r requirements.txt (line 7)) (3.7.4.3)\n",
      "Requirement already satisfied: zipp>=0.5 in /usr/local/lib/python3.7/dist-packages (from importlib-metadata; python_version < \"3.8\"->markdown>=2.6.8->tensorboard<1.15.0,>=1.14.0->tensorflow==1.14.0->-r requirements.txt (line 7)) (3.4.1)\n",
      "\u001b[31mERROR: kapre 0.3.5 has requirement tensorflow>=2.0.0, but you'll have tensorflow 1.14.0 which is incompatible.\u001b[0m\n",
      "\u001b[31mERROR: albumentations 0.1.12 has requirement imgaug<0.2.7,>=0.2.5, but you'll have imgaug 0.2.9 which is incompatible.\u001b[0m\n",
      "Installing collected packages: scipy, tensorboard, tensorflow-estimator, h5py, keras-applications, tensorflow, tensorflow-gpu, keras, ipyparallel, nose\n",
      "  Found existing installation: scipy 1.4.1\n",
      "    Uninstalling scipy-1.4.1:\n",
      "      Successfully uninstalled scipy-1.4.1\n",
      "  Found existing installation: tensorboard 2.5.0\n",
      "    Uninstalling tensorboard-2.5.0:\n",
      "      Successfully uninstalled tensorboard-2.5.0\n",
      "  Found existing installation: tensorflow-estimator 2.5.0\n",
      "    Uninstalling tensorflow-estimator-2.5.0:\n",
      "      Successfully uninstalled tensorflow-estimator-2.5.0\n",
      "  Found existing installation: h5py 3.1.0\n",
      "    Uninstalling h5py-3.1.0:\n",
      "      Successfully uninstalled h5py-3.1.0\n",
      "  Found existing installation: Keras 2.4.3\n",
      "    Uninstalling Keras-2.4.3:\n",
      "      Successfully uninstalled Keras-2.4.3\n",
      "Successfully installed h5py-2.10.0 ipyparallel-6.3.0 keras-2.1.5 keras-applications-1.0.8 nose-1.3.7 scipy-1.2.2 tensorboard-1.14.0 tensorflow-1.14.0 tensorflow-estimator-1.14.0 tensorflow-gpu-1.14.0\n",
      "python3: can't open file 'setup.py': [Errno 2] No such file or directory\n"
     ]
    }
   ],
   "source": [
    "%cd ~/Weight-Mask-R-CNN/\n",
    "\n",
    "!pip install -q PyDrive\n",
    "!pip install -r requirements.txt\n",
    "!python setup.py install"
   ]
  },
  {
   "cell_type": "code",
   "execution_count": null,
   "metadata": {
    "colab": {
     "base_uri": "https://localhost:8080/"
    },
    "id": "OzL36WU0evvS",
    "outputId": "faeec100-010c-4a27-cc2d-ed7c8c2f3106"
   },
   "outputs": [
    {
     "name": "stdout",
     "output_type": "stream",
     "text": [
      "/root/Weight-Mask-R-CNN\n"
     ]
    }
   ],
   "source": [
    "%cd ~/Weight-Mask-R-CNN"
   ]
  },
  {
   "cell_type": "code",
   "execution_count": null,
   "metadata": {
    "colab": {
     "base_uri": "https://localhost:8080/"
    },
    "id": "EkmsZyVI9NQE",
    "outputId": "2ae7776f-45ed-4288-c019-c150531584de"
   },
   "outputs": [
    {
     "name": "stdout",
     "output_type": "stream",
     "text": [
      "Extracted zip file 1ccrlAmkPO-ovSOWQ6U42cDyi3vyzBC0g.zip\n"
     ]
    }
   ],
   "source": [
    "\n",
    "fileId = '1ccrlAmkPO-ovSOWQ6U42cDyi3vyzBC0g'\n",
    "\n",
    "import os\n",
    "from zipfile import ZipFile\n",
    "from shutil import copy\n",
    "from pydrive.auth import GoogleAuth\n",
    "from pydrive.drive import GoogleDrive\n",
    "from google.colab import auth\n",
    "from oauth2client.client import GoogleCredentials\n",
    "\n",
    "os.makedirs('dataset')\n",
    "os.chdir('dataset')\n",
    "\n",
    "auth.authenticate_user()\n",
    "gauth = GoogleAuth()\n",
    "gauth.credentials = GoogleCredentials.get_application_default()\n",
    "drive = GoogleDrive(gauth)\n",
    "\n",
    "fileName = fileId + '.zip'\n",
    "downloaded = drive.CreateFile({'id': fileId})\n",
    "downloaded.GetContentFile(fileName)\n",
    "ds = ZipFile(fileName)\n",
    "ds.extractall()\n",
    "os.remove(fileName)\n",
    "print('Extracted zip file ' + fileName)"
   ]
  },
  {
   "cell_type": "markdown",
   "metadata": {
    "id": "3mxYi5RgfBQl"
   },
   "source": []
  },
  {
   "cell_type": "code",
   "execution_count": null,
   "metadata": {
    "colab": {
     "base_uri": "https://localhost:8080/"
    },
    "id": "cpcFX8UJCoiQ",
    "outputId": "a1e45ffe-068e-4de4-da6c-d6656894a0a9"
   },
   "outputs": [
    {
     "name": "stdout",
     "output_type": "stream",
     "text": [
      "/root/Weight-Mask-R-CNN\n"
     ]
    }
   ],
   "source": [
    "%cd ~/Weight-Mask-R-CNN/"
   ]
  },
  {
   "cell_type": "code",
   "execution_count": null,
   "metadata": {
    "colab": {
     "base_uri": "https://localhost:8080/"
    },
    "id": "KQWDRHhFzNDU",
    "outputId": "dafd3b91-155b-4b0d-9db7-66fc8b28e2df"
   },
   "outputs": [
    {
     "name": "stdout",
     "output_type": "stream",
     "text": [
      "/usr/local/lib/python3.7/dist-packages/tensorflow/python/framework/dtypes.py:516: FutureWarning: Passing (type, 1) or '1type' as a synonym of type is deprecated; in a future version of numpy, it will be understood as (type, (1,)) / '(1,)type'.\n",
      "  _np_qint8 = np.dtype([(\"qint8\", np.int8, 1)])\n",
      "/usr/local/lib/python3.7/dist-packages/tensorflow/python/framework/dtypes.py:517: FutureWarning: Passing (type, 1) or '1type' as a synonym of type is deprecated; in a future version of numpy, it will be understood as (type, (1,)) / '(1,)type'.\n",
      "  _np_quint8 = np.dtype([(\"quint8\", np.uint8, 1)])\n",
      "/usr/local/lib/python3.7/dist-packages/tensorflow/python/framework/dtypes.py:518: FutureWarning: Passing (type, 1) or '1type' as a synonym of type is deprecated; in a future version of numpy, it will be understood as (type, (1,)) / '(1,)type'.\n",
      "  _np_qint16 = np.dtype([(\"qint16\", np.int16, 1)])\n",
      "/usr/local/lib/python3.7/dist-packages/tensorflow/python/framework/dtypes.py:519: FutureWarning: Passing (type, 1) or '1type' as a synonym of type is deprecated; in a future version of numpy, it will be understood as (type, (1,)) / '(1,)type'.\n",
      "  _np_quint16 = np.dtype([(\"quint16\", np.uint16, 1)])\n",
      "/usr/local/lib/python3.7/dist-packages/tensorflow/python/framework/dtypes.py:520: FutureWarning: Passing (type, 1) or '1type' as a synonym of type is deprecated; in a future version of numpy, it will be understood as (type, (1,)) / '(1,)type'.\n",
      "  _np_qint32 = np.dtype([(\"qint32\", np.int32, 1)])\n",
      "/usr/local/lib/python3.7/dist-packages/tensorflow/python/framework/dtypes.py:525: FutureWarning: Passing (type, 1) or '1type' as a synonym of type is deprecated; in a future version of numpy, it will be understood as (type, (1,)) / '(1,)type'.\n",
      "  np_resource = np.dtype([(\"resource\", np.ubyte, 1)])\n",
      "/usr/local/lib/python3.7/dist-packages/tensorboard/compat/tensorflow_stub/dtypes.py:541: FutureWarning: Passing (type, 1) or '1type' as a synonym of type is deprecated; in a future version of numpy, it will be understood as (type, (1,)) / '(1,)type'.\n",
      "  _np_qint8 = np.dtype([(\"qint8\", np.int8, 1)])\n",
      "/usr/local/lib/python3.7/dist-packages/tensorboard/compat/tensorflow_stub/dtypes.py:542: FutureWarning: Passing (type, 1) or '1type' as a synonym of type is deprecated; in a future version of numpy, it will be understood as (type, (1,)) / '(1,)type'.\n",
      "  _np_quint8 = np.dtype([(\"quint8\", np.uint8, 1)])\n",
      "/usr/local/lib/python3.7/dist-packages/tensorboard/compat/tensorflow_stub/dtypes.py:543: FutureWarning: Passing (type, 1) or '1type' as a synonym of type is deprecated; in a future version of numpy, it will be understood as (type, (1,)) / '(1,)type'.\n",
      "  _np_qint16 = np.dtype([(\"qint16\", np.int16, 1)])\n",
      "/usr/local/lib/python3.7/dist-packages/tensorboard/compat/tensorflow_stub/dtypes.py:544: FutureWarning: Passing (type, 1) or '1type' as a synonym of type is deprecated; in a future version of numpy, it will be understood as (type, (1,)) / '(1,)type'.\n",
      "  _np_quint16 = np.dtype([(\"quint16\", np.uint16, 1)])\n",
      "/usr/local/lib/python3.7/dist-packages/tensorboard/compat/tensorflow_stub/dtypes.py:545: FutureWarning: Passing (type, 1) or '1type' as a synonym of type is deprecated; in a future version of numpy, it will be understood as (type, (1,)) / '(1,)type'.\n",
      "  _np_qint32 = np.dtype([(\"qint32\", np.int32, 1)])\n",
      "/usr/local/lib/python3.7/dist-packages/tensorboard/compat/tensorflow_stub/dtypes.py:550: FutureWarning: Passing (type, 1) or '1type' as a synonym of type is deprecated; in a future version of numpy, it will be understood as (type, (1,)) / '(1,)type'.\n",
      "  np_resource = np.dtype([(\"resource\", np.ubyte, 1)])\n",
      "Using TensorFlow backend.\n",
      "Weights:  coco\n",
      "Dataset:  /root/Weight-Mask-R-CNN/dataset/cuy\n",
      "Weight File:  /root/Weight-Mask-R-CNN/dataset/cuy/weights.txt\n",
      "Logs:  /logs\n",
      "\n",
      "Configurations Superlee:\n",
      "BACKBONE                       resnet50\n",
      "BACKBONE_SHAPES                [[160 160]\n",
      " [ 80  80]\n",
      " [ 40  40]\n",
      " [ 20  20]\n",
      " [ 10  10]]\n",
      "BACKBONE_STRIDES               [4, 8, 16, 32, 64]\n",
      "BATCH_SIZE                     2\n",
      "BBOX_STD_DEV                   [0.1 0.1 0.2 0.2]\n",
      "DETECTION_MAX_INSTANCES        10\n",
      "DETECTION_MIN_CONFIDENCE       0.9\n",
      "DETECTION_NMS_THRESHOLD        0.3\n",
      "GPU_COUNT                      1\n",
      "IMAGES_PER_GPU                 2\n",
      "IMAGE_MAX_DIM                  640\n",
      "IMAGE_MIN_DIM                  640\n",
      "IMAGE_PADDING                  True\n",
      "IMAGE_RESIZE_MODE              square\n",
      "IMAGE_SHAPE                    [640 640   3]\n",
      "LEARNING_MOMENTUM              0.9\n",
      "LEARNING_RATE                  0.001\n",
      "MASK_POOL_SIZE                 14\n",
      "MASK_SHAPE                     [56, 56]\n",
      "MAX_GT_INSTANCES               50\n",
      "MEAN_PIXEL                     [123.7 116.8 103.9]\n",
      "MINI_MASK_SHAPE                (56, 56)\n",
      "NAME                           cuy\n",
      "NUM_CLASSES                    2\n",
      "NUM_KEYPOINTS                  17\n",
      "POOL_SIZE                      7\n",
      "POST_NMS_ROIS_INFERENCE        1000\n",
      "POST_NMS_ROIS_TRAINING         2000\n",
      "ROI_POSITIVE_RATIO             0.33\n",
      "RPN_ANCHOR_RATIOS              [0.5, 1, 2]\n",
      "RPN_ANCHOR_SCALES              (32, 64, 128, 256, 512)\n",
      "RPN_ANCHOR_STRIDE              1\n",
      "RPN_BBOX_STD_DEV               [0.1 0.1 0.2 0.2]\n",
      "RPN_NMS_THRESHOLD              0.7\n",
      "RPN_TRAIN_ANCHORS_PER_IMAGE    256\n",
      "STEPS_PER_EPOCH                100\n",
      "TRAIN_ROIS_PER_IMAGE           100\n",
      "USE_MINI_MASK                  True\n",
      "USE_RPN_ROIS                   True\n",
      "VALIDATION_STEPS               50\n",
      "WEIGHT_DECAY                   0.0001\n",
      "\n",
      "\n",
      "WARNING:tensorflow:From /usr/local/lib/python3.7/dist-packages/keras/backend/tensorflow_backend.py:507: The name tf.placeholder is deprecated. Please use tf.compat.v1.placeholder instead.\n",
      "\n",
      "WARNING:tensorflow:From /usr/local/lib/python3.7/dist-packages/keras/backend/tensorflow_backend.py:68: The name tf.get_default_graph is deprecated. Please use tf.compat.v1.get_default_graph instead.\n",
      "\n",
      "WARNING:tensorflow:From /usr/local/lib/python3.7/dist-packages/keras/backend/tensorflow_backend.py:3831: The name tf.random_uniform is deprecated. Please use tf.random.uniform instead.\n",
      "\n",
      "WARNING:tensorflow:From /usr/local/lib/python3.7/dist-packages/keras/backend/tensorflow_backend.py:3655: The name tf.nn.max_pool is deprecated. Please use tf.nn.max_pool2d instead.\n",
      "\n",
      "WARNING:tensorflow:From /usr/local/lib/python3.7/dist-packages/keras/backend/tensorflow_backend.py:1940: The name tf.image.resize_nearest_neighbor is deprecated. Please use tf.compat.v1.image.resize_nearest_neighbor instead.\n",
      "\n",
      "WARNING:tensorflow:From /usr/local/lib/python3.7/dist-packages/tensorflow/python/ops/array_ops.py:1354: add_dispatch_support.<locals>.wrapper (from tensorflow.python.ops.array_ops) is deprecated and will be removed in a future version.\n",
      "Instructions for updating:\n",
      "Use tf.where in 2.0, which has the same broadcast rule as np.where\n",
      "WARNING:tensorflow:From /root/Weight-Mask-R-CNN/model.py:665: The name tf.random_shuffle is deprecated. Please use tf.random.shuffle instead.\n",
      "\n",
      "WARNING:tensorflow:From /root/Weight-Mask-R-CNN/utils.py:251: The name tf.log is deprecated. Please use tf.math.log instead.\n",
      "\n",
      "WARNING:tensorflow:From /root/Weight-Mask-R-CNN/model.py:709: calling crop_and_resize_v1 (from tensorflow.python.ops.image_ops_impl) with box_ind is deprecated and will be removed in a future version.\n",
      "Instructions for updating:\n",
      "box_ind is deprecated, use box_indices instead\n",
      "Downloading pretrained model to /mask_rcnn_coco.h5 ...\n",
      "... done downloading pretrained model!\n",
      "Loading weights  /mask_rcnn_coco.h5\n",
      "2021-06-02 19:26:13.529341: I tensorflow/core/platform/cpu_feature_guard.cc:142] Your CPU supports instructions that this TensorFlow binary was not compiled to use: AVX2 FMA\n",
      "2021-06-02 19:26:13.534807: I tensorflow/core/platform/profile_utils/cpu_utils.cc:94] CPU Frequency: 2299995000 Hz\n",
      "2021-06-02 19:26:13.535010: I tensorflow/compiler/xla/service/service.cc:168] XLA service 0x55618db5a840 executing computations on platform Host. Devices:\n",
      "2021-06-02 19:26:13.535041: I tensorflow/compiler/xla/service/service.cc:175]   StreamExecutor device (0): <undefined>, <undefined>\n",
      "2021-06-02 19:26:13.539010: I tensorflow/stream_executor/platform/default/dso_loader.cc:42] Successfully opened dynamic library libcuda.so.1\n",
      "2021-06-02 19:26:13.847930: I tensorflow/stream_executor/cuda/cuda_gpu_executor.cc:1005] successful NUMA node read from SysFS had negative value (-1), but there must be at least one NUMA node, so returning NUMA node zero\n",
      "2021-06-02 19:26:13.848640: I tensorflow/compiler/xla/service/service.cc:168] XLA service 0x55618db5b2c0 executing computations on platform CUDA. Devices:\n",
      "2021-06-02 19:26:13.848670: I tensorflow/compiler/xla/service/service.cc:175]   StreamExecutor device (0): Tesla P100-PCIE-16GB, Compute Capability 6.0\n",
      "2021-06-02 19:26:13.849862: I tensorflow/stream_executor/cuda/cuda_gpu_executor.cc:1005] successful NUMA node read from SysFS had negative value (-1), but there must be at least one NUMA node, so returning NUMA node zero\n",
      "2021-06-02 19:26:13.850404: I tensorflow/core/common_runtime/gpu/gpu_device.cc:1640] Found device 0 with properties: \n",
      "name: Tesla P100-PCIE-16GB major: 6 minor: 0 memoryClockRate(GHz): 1.3285\n",
      "pciBusID: 0000:00:04.0\n",
      "2021-06-02 19:26:13.863315: I tensorflow/stream_executor/platform/default/dso_loader.cc:42] Successfully opened dynamic library libcudart.so.10.0\n",
      "2021-06-02 19:26:14.075376: I tensorflow/stream_executor/platform/default/dso_loader.cc:42] Successfully opened dynamic library libcublas.so.10.0\n",
      "2021-06-02 19:26:14.162253: I tensorflow/stream_executor/platform/default/dso_loader.cc:42] Successfully opened dynamic library libcufft.so.10.0\n",
      "2021-06-02 19:26:14.191493: I tensorflow/stream_executor/platform/default/dso_loader.cc:42] Successfully opened dynamic library libcurand.so.10.0\n",
      "2021-06-02 19:26:14.411012: I tensorflow/stream_executor/platform/default/dso_loader.cc:42] Successfully opened dynamic library libcusolver.so.10.0\n",
      "2021-06-02 19:26:14.564359: I tensorflow/stream_executor/platform/default/dso_loader.cc:42] Successfully opened dynamic library libcusparse.so.10.0\n",
      "2021-06-02 19:26:15.062026: I tensorflow/stream_executor/platform/default/dso_loader.cc:42] Successfully opened dynamic library libcudnn.so.7\n",
      "2021-06-02 19:26:15.062210: I tensorflow/stream_executor/cuda/cuda_gpu_executor.cc:1005] successful NUMA node read from SysFS had negative value (-1), but there must be at least one NUMA node, so returning NUMA node zero\n",
      "2021-06-02 19:26:15.062905: I tensorflow/stream_executor/cuda/cuda_gpu_executor.cc:1005] successful NUMA node read from SysFS had negative value (-1), but there must be at least one NUMA node, so returning NUMA node zero\n",
      "2021-06-02 19:26:15.063420: I tensorflow/core/common_runtime/gpu/gpu_device.cc:1763] Adding visible gpu devices: 0\n",
      "2021-06-02 19:26:15.063491: I tensorflow/stream_executor/platform/default/dso_loader.cc:42] Successfully opened dynamic library libcudart.so.10.0\n",
      "2021-06-02 19:26:15.064682: I tensorflow/core/common_runtime/gpu/gpu_device.cc:1181] Device interconnect StreamExecutor with strength 1 edge matrix:\n",
      "2021-06-02 19:26:15.064709: I tensorflow/core/common_runtime/gpu/gpu_device.cc:1187]      0 \n",
      "2021-06-02 19:26:15.064723: I tensorflow/core/common_runtime/gpu/gpu_device.cc:1200] 0:   N \n",
      "2021-06-02 19:26:15.064825: I tensorflow/stream_executor/cuda/cuda_gpu_executor.cc:1005] successful NUMA node read from SysFS had negative value (-1), but there must be at least one NUMA node, so returning NUMA node zero\n",
      "2021-06-02 19:26:15.065373: I tensorflow/stream_executor/cuda/cuda_gpu_executor.cc:1005] successful NUMA node read from SysFS had negative value (-1), but there must be at least one NUMA node, so returning NUMA node zero\n",
      "2021-06-02 19:26:15.065897: W tensorflow/core/common_runtime/gpu/gpu_bfc_allocator.cc:40] Overriding allow_growth setting because the TF_FORCE_GPU_ALLOW_GROWTH environment variable is set. Original config value was 0.\n",
      "2021-06-02 19:26:15.065937: I tensorflow/core/common_runtime/gpu/gpu_device.cc:1326] Created TensorFlow device (/job:localhost/replica:0/task:0/device:GPU:0 with 15224 MB memory) -> physical GPU (device: 0, name: Tesla P100-PCIE-16GB, pci bus id: 0000:00:04.0, compute capability: 6.0)\n",
      "Training network heads\n",
      "\n",
      "Starting at epoch 0. LR=0.001\n",
      "\n",
      "Checkpoint Path: /logs/cuy20210602T1926/mask_rcnn_cuy_{epoch:04d}.h5\n",
      "Selecting layers to train\n",
      "fpn_c5p5               (Conv2D)\n",
      "fpn_c4p4               (Conv2D)\n",
      "fpn_c3p3               (Conv2D)\n",
      "fpn_c2p2               (Conv2D)\n",
      "fpn_p5                 (Conv2D)\n",
      "fpn_p2                 (Conv2D)\n",
      "fpn_p3                 (Conv2D)\n",
      "fpn_p4                 (Conv2D)\n",
      "In model:  rpn_model\n",
      "    rpn_conv_shared        (Conv2D)\n",
      "    rpn_class_raw          (Conv2D)\n",
      "    rpn_bbox_pred          (Conv2D)\n",
      "mrcnn_mask_conv1       (TimeDistributed)\n",
      "mrcnn_mask_bn1         (TimeDistributed)\n",
      "mrcnn_mask_conv2       (TimeDistributed)\n",
      "mrcnn_mask_bn2         (TimeDistributed)\n",
      "mrcnn_class_conv1      (TimeDistributed)\n",
      "mrcnn_mask_conv3       (TimeDistributed)\n",
      "mrcnn_class_bn1        (TimeDistributed)\n",
      "mrcnn_mask_bn3         (TimeDistributed)\n",
      "mrcnn_class_conv2      (TimeDistributed)\n",
      "mrcnn_mask_conv4       (TimeDistributed)\n",
      "mrcnn_class_bn2        (TimeDistributed)\n",
      "mrcnn_mask_bn4         (TimeDistributed)\n",
      "mrcnn_mask_deconv1     (TimeDistributed)\n",
      "mrcnn_bbox_fc          (TimeDistributed)\n",
      "mrcnn_mask_deconv2     (TimeDistributed)\n",
      "mrcnn_class_logits     (TimeDistributed)\n",
      "mrcnn_bodyweight       (TimeDistributed)\n",
      "mrcnn_mask             (TimeDistributed)\n",
      "WARNING:tensorflow:From /usr/local/lib/python3.7/dist-packages/keras/optimizers.py:757: The name tf.train.Optimizer is deprecated. Please use tf.compat.v1.train.Optimizer instead.\n",
      "\n",
      "/usr/local/lib/python3.7/dist-packages/tensorflow/python/ops/gradients_util.py:93: UserWarning: Converting sparse IndexedSlices to a dense Tensor of unknown shape. This may consume a large amount of memory.\n",
      "  \"Converting sparse IndexedSlices to a dense Tensor of unknown shape. \"\n",
      "/usr/local/lib/python3.7/dist-packages/tensorflow/python/ops/gradients_util.py:93: UserWarning: Converting sparse IndexedSlices to a dense Tensor of unknown shape. This may consume a large amount of memory.\n",
      "  \"Converting sparse IndexedSlices to a dense Tensor of unknown shape. \"\n",
      "/usr/local/lib/python3.7/dist-packages/tensorflow/python/ops/gradients_util.py:93: UserWarning: Converting sparse IndexedSlices to a dense Tensor of unknown shape. This may consume a large amount of memory.\n",
      "  \"Converting sparse IndexedSlices to a dense Tensor of unknown shape. \"\n",
      "/usr/local/lib/python3.7/dist-packages/keras/engine/training.py:2087: UserWarning: Using a generator with `use_multiprocessing=True` and multiple workers may duplicate your data. Please consider using the`keras.utils.Sequence class.\n",
      "  UserWarning('Using a generator with `use_multiprocessing=True`'\n",
      "WARNING:tensorflow:From /usr/local/lib/python3.7/dist-packages/keras/callbacks.py:774: The name tf.summary.merge_all is deprecated. Please use tf.compat.v1.summary.merge_all instead.\n",
      "\n",
      "WARNING:tensorflow:From /usr/local/lib/python3.7/dist-packages/keras/callbacks.py:777: The name tf.summary.FileWriter is deprecated. Please use tf.compat.v1.summary.FileWriter instead.\n",
      "\n",
      "Epoch 1/30\n",
      "2021-06-02 19:26:37.652021: W tensorflow/compiler/jit/mark_for_compilation_pass.cc:1412] (One-time warning): Not using XLA:CPU for cluster because envvar TF_XLA_FLAGS=--tf_xla_cpu_global_jit was not set.  If you want XLA:CPU, either set that envvar, or use experimental_jit_scope to enable XLA:CPU.  To confirm that XLA is active, pass --vmodule=xla_compilation_cache=1 (as a proper command-line flag, not via TF_XLA_FLAGS) or set the envvar XLA_FLAGS=--xla_hlo_profile.\n",
      "2021-06-02 19:26:38.806537: I tensorflow/stream_executor/platform/default/dso_loader.cc:42] Successfully opened dynamic library libcublas.so.10.0\n",
      "2021-06-02 19:26:40.066570: I tensorflow/stream_executor/platform/default/dso_loader.cc:42] Successfully opened dynamic library libcudnn.so.7\n",
      "100/100 [==============================] - 71s 706ms/step - loss: 1.4519 - rpn_class_loss: 0.0021 - rpn_bbox_loss: 0.0751 - mrcnn_class_loss: 0.0242 - mrcnn_bbox_loss: 0.3204 - bodyweight_mrcnn_mask_loss: 0.3798 - mrcnn_mask_loss: 0.6504 - val_loss: 0.7163 - val_rpn_class_loss: 6.0720e-04 - val_rpn_bbox_loss: 0.0216 - val_mrcnn_class_loss: 0.0033 - val_mrcnn_bbox_loss: 0.0556 - val_bodyweight_mrcnn_mask_loss: 0.1465 - val_mrcnn_mask_loss: 0.4888\n",
      "Epoch 2/30\n",
      "100/100 [==============================] - 47s 471ms/step - loss: 0.5097 - rpn_class_loss: 0.0017 - rpn_bbox_loss: 0.0481 - mrcnn_class_loss: 0.0055 - mrcnn_bbox_loss: 0.0938 - bodyweight_mrcnn_mask_loss: 0.0941 - mrcnn_mask_loss: 0.2664 - val_loss: 0.2137 - val_rpn_class_loss: 3.3591e-04 - val_rpn_bbox_loss: 0.0411 - val_mrcnn_class_loss: 0.0026 - val_mrcnn_bbox_loss: 0.0370 - val_bodyweight_mrcnn_mask_loss: 0.0146 - val_mrcnn_mask_loss: 0.1181\n",
      "Epoch 3/30\n",
      "100/100 [==============================] - 46s 462ms/step - loss: 0.2761 - rpn_class_loss: 0.0011 - rpn_bbox_loss: 0.0722 - mrcnn_class_loss: 0.0058 - mrcnn_bbox_loss: 0.0607 - bodyweight_mrcnn_mask_loss: 0.0269 - mrcnn_mask_loss: 0.1095 - val_loss: 0.1957 - val_rpn_class_loss: 1.7635e-04 - val_rpn_bbox_loss: 0.0377 - val_mrcnn_class_loss: 0.0109 - val_mrcnn_bbox_loss: 0.0270 - val_bodyweight_mrcnn_mask_loss: 0.0110 - val_mrcnn_mask_loss: 0.1089\n",
      "Epoch 4/30\n",
      "100/100 [==============================] - 46s 462ms/step - loss: 0.2516 - rpn_class_loss: 9.2158e-04 - rpn_bbox_loss: 0.1010 - mrcnn_class_loss: 0.0031 - mrcnn_bbox_loss: 0.0430 - bodyweight_mrcnn_mask_loss: 0.0155 - mrcnn_mask_loss: 0.0880 - val_loss: 0.2172 - val_rpn_class_loss: 2.6332e-04 - val_rpn_bbox_loss: 0.0644 - val_mrcnn_class_loss: 9.0070e-04 - val_mrcnn_bbox_loss: 0.0515 - val_bodyweight_mrcnn_mask_loss: 0.0108 - val_mrcnn_mask_loss: 0.0892\n",
      "Epoch 5/30\n",
      "100/100 [==============================] - 47s 467ms/step - loss: 0.2051 - rpn_class_loss: 0.0011 - rpn_bbox_loss: 0.0624 - mrcnn_class_loss: 0.0034 - mrcnn_bbox_loss: 0.0403 - bodyweight_mrcnn_mask_loss: 0.0127 - mrcnn_mask_loss: 0.0852 - val_loss: 0.1819 - val_rpn_class_loss: 1.3093e-04 - val_rpn_bbox_loss: 0.0664 - val_mrcnn_class_loss: 4.5735e-04 - val_mrcnn_bbox_loss: 0.0212 - val_bodyweight_mrcnn_mask_loss: 0.0028 - val_mrcnn_mask_loss: 0.0909\n",
      "Epoch 6/30\n",
      "100/100 [==============================] - 46s 463ms/step - loss: 0.2030 - rpn_class_loss: 6.5898e-04 - rpn_bbox_loss: 0.0660 - mrcnn_class_loss: 0.0028 - mrcnn_bbox_loss: 0.0409 - bodyweight_mrcnn_mask_loss: 0.0097 - mrcnn_mask_loss: 0.0830 - val_loss: 0.1534 - val_rpn_class_loss: 1.0575e-04 - val_rpn_bbox_loss: 0.0357 - val_mrcnn_class_loss: 5.5230e-04 - val_mrcnn_bbox_loss: 0.0353 - val_bodyweight_mrcnn_mask_loss: 0.0029 - val_mrcnn_mask_loss: 0.0788\n",
      "Epoch 7/30\n",
      "100/100 [==============================] - 47s 469ms/step - loss: 0.1769 - rpn_class_loss: 5.8988e-04 - rpn_bbox_loss: 0.0576 - mrcnn_class_loss: 0.0027 - mrcnn_bbox_loss: 0.0318 - bodyweight_mrcnn_mask_loss: 0.0077 - mrcnn_mask_loss: 0.0766 - val_loss: 0.2341 - val_rpn_class_loss: 1.8000e-04 - val_rpn_bbox_loss: 0.1271 - val_mrcnn_class_loss: 7.2238e-04 - val_mrcnn_bbox_loss: 0.0313 - val_bodyweight_mrcnn_mask_loss: 0.0045 - val_mrcnn_mask_loss: 0.0702\n",
      "Epoch 8/30\n",
      "100/100 [==============================] - 46s 461ms/step - loss: 0.1580 - rpn_class_loss: 7.3240e-04 - rpn_bbox_loss: 0.0475 - mrcnn_class_loss: 0.0037 - mrcnn_bbox_loss: 0.0265 - bodyweight_mrcnn_mask_loss: 0.0076 - mrcnn_mask_loss: 0.0720 - val_loss: 0.1603 - val_rpn_class_loss: 9.6779e-05 - val_rpn_bbox_loss: 0.0635 - val_mrcnn_class_loss: 5.6551e-04 - val_mrcnn_bbox_loss: 0.0230 - val_bodyweight_mrcnn_mask_loss: 0.0018 - val_mrcnn_mask_loss: 0.0713\n",
      "Epoch 9/30\n",
      "100/100 [==============================] - 45s 451ms/step - loss: 0.1629 - rpn_class_loss: 7.9875e-04 - rpn_bbox_loss: 0.0523 - mrcnn_class_loss: 0.0034 - mrcnn_bbox_loss: 0.0260 - bodyweight_mrcnn_mask_loss: 0.0061 - mrcnn_mask_loss: 0.0742 - val_loss: 0.1294 - val_rpn_class_loss: 8.3585e-05 - val_rpn_bbox_loss: 0.0398 - val_mrcnn_class_loss: 4.2664e-04 - val_mrcnn_bbox_loss: 0.0114 - val_bodyweight_mrcnn_mask_loss: 9.6355e-04 - val_mrcnn_mask_loss: 0.0768\n",
      "Epoch 10/30\n",
      "100/100 [==============================] - 44s 442ms/step - loss: 0.1530 - rpn_class_loss: 5.1392e-04 - rpn_bbox_loss: 0.0516 - mrcnn_class_loss: 0.0024 - mrcnn_bbox_loss: 0.0213 - bodyweight_mrcnn_mask_loss: 0.0068 - mrcnn_mask_loss: 0.0704 - val_loss: 0.1666 - val_rpn_class_loss: 8.7971e-05 - val_rpn_bbox_loss: 0.0710 - val_mrcnn_class_loss: 4.6166e-04 - val_mrcnn_bbox_loss: 0.0085 - val_bodyweight_mrcnn_mask_loss: 0.0017 - val_mrcnn_mask_loss: 0.0849\n",
      "Epoch 11/30\n",
      "100/100 [==============================] - 44s 445ms/step - loss: 0.1515 - rpn_class_loss: 6.2796e-04 - rpn_bbox_loss: 0.0479 - mrcnn_class_loss: 0.0024 - mrcnn_bbox_loss: 0.0226 - bodyweight_mrcnn_mask_loss: 0.0070 - mrcnn_mask_loss: 0.0709 - val_loss: 0.1282 - val_rpn_class_loss: 8.4304e-05 - val_rpn_bbox_loss: 0.0316 - val_mrcnn_class_loss: 3.4899e-04 - val_mrcnn_bbox_loss: 0.0122 - val_bodyweight_mrcnn_mask_loss: 0.0062 - val_mrcnn_mask_loss: 0.0779\n",
      "Epoch 12/30\n",
      "100/100 [==============================] - 44s 437ms/step - loss: 0.1498 - rpn_class_loss: 5.3054e-04 - rpn_bbox_loss: 0.0484 - mrcnn_class_loss: 0.0030 - mrcnn_bbox_loss: 0.0205 - bodyweight_mrcnn_mask_loss: 0.0067 - mrcnn_mask_loss: 0.0706 - val_loss: 0.1371 - val_rpn_class_loss: 4.4557e-05 - val_rpn_bbox_loss: 0.0430 - val_mrcnn_class_loss: 8.4627e-04 - val_mrcnn_bbox_loss: 0.0127 - val_bodyweight_mrcnn_mask_loss: 0.0094 - val_mrcnn_mask_loss: 0.0711\n",
      "Epoch 13/30\n",
      "100/100 [==============================] - 44s 437ms/step - loss: 0.1444 - rpn_class_loss: 5.5432e-04 - rpn_bbox_loss: 0.0477 - mrcnn_class_loss: 0.0025 - mrcnn_bbox_loss: 0.0185 - bodyweight_mrcnn_mask_loss: 0.0054 - mrcnn_mask_loss: 0.0698 - val_loss: 0.1335 - val_rpn_class_loss: 1.2549e-04 - val_rpn_bbox_loss: 0.0281 - val_mrcnn_class_loss: 5.6005e-04 - val_mrcnn_bbox_loss: 0.0200 - val_bodyweight_mrcnn_mask_loss: 0.0032 - val_mrcnn_mask_loss: 0.0816\n",
      "Epoch 14/30\n",
      "100/100 [==============================] - 44s 437ms/step - loss: 0.1264 - rpn_class_loss: 5.0044e-04 - rpn_bbox_loss: 0.0349 - mrcnn_class_loss: 0.0023 - mrcnn_bbox_loss: 0.0193 - bodyweight_mrcnn_mask_loss: 0.0037 - mrcnn_mask_loss: 0.0657 - val_loss: 0.1802 - val_rpn_class_loss: 4.9290e-05 - val_rpn_bbox_loss: 0.0763 - val_mrcnn_class_loss: 3.2683e-04 - val_mrcnn_bbox_loss: 0.0186 - val_bodyweight_mrcnn_mask_loss: 0.0044 - val_mrcnn_mask_loss: 0.0805\n",
      "Epoch 15/30\n",
      "100/100 [==============================] - 44s 437ms/step - loss: 0.1266 - rpn_class_loss: 5.8832e-04 - rpn_bbox_loss: 0.0391 - mrcnn_class_loss: 0.0025 - mrcnn_bbox_loss: 0.0157 - bodyweight_mrcnn_mask_loss: 0.0048 - mrcnn_mask_loss: 0.0638 - val_loss: 0.1814 - val_rpn_class_loss: 3.0383e-05 - val_rpn_bbox_loss: 0.0534 - val_mrcnn_class_loss: 0.0174 - val_mrcnn_bbox_loss: 0.0229 - val_bodyweight_mrcnn_mask_loss: 0.0037 - val_mrcnn_mask_loss: 0.0839\n",
      "Epoch 16/30\n",
      "100/100 [==============================] - 43s 428ms/step - loss: 0.1177 - rpn_class_loss: 4.6244e-04 - rpn_bbox_loss: 0.0334 - mrcnn_class_loss: 0.0026 - mrcnn_bbox_loss: 0.0134 - bodyweight_mrcnn_mask_loss: 0.0040 - mrcnn_mask_loss: 0.0638 - val_loss: 0.1126 - val_rpn_class_loss: 4.3377e-05 - val_rpn_bbox_loss: 0.0224 - val_mrcnn_class_loss: 2.7699e-04 - val_mrcnn_bbox_loss: 0.0105 - val_bodyweight_mrcnn_mask_loss: 0.0015 - val_mrcnn_mask_loss: 0.0779\n",
      "Epoch 17/30\n",
      "100/100 [==============================] - 44s 438ms/step - loss: 0.1268 - rpn_class_loss: 6.6100e-04 - rpn_bbox_loss: 0.0373 - mrcnn_class_loss: 0.0031 - mrcnn_bbox_loss: 0.0169 - bodyweight_mrcnn_mask_loss: 0.0046 - mrcnn_mask_loss: 0.0643 - val_loss: 0.1423 - val_rpn_class_loss: 6.2564e-05 - val_rpn_bbox_loss: 0.0397 - val_mrcnn_class_loss: 0.0140 - val_mrcnn_bbox_loss: 0.0106 - val_bodyweight_mrcnn_mask_loss: 0.0058 - val_mrcnn_mask_loss: 0.0720\n",
      "Epoch 18/30\n",
      "100/100 [==============================] - 45s 453ms/step - loss: 0.1301 - rpn_class_loss: 5.5983e-04 - rpn_bbox_loss: 0.0434 - mrcnn_class_loss: 0.0020 - mrcnn_bbox_loss: 0.0169 - bodyweight_mrcnn_mask_loss: 0.0049 - mrcnn_mask_loss: 0.0624 - val_loss: 0.1896 - val_rpn_class_loss: 6.8021e-05 - val_rpn_bbox_loss: 0.0964 - val_mrcnn_class_loss: 3.3572e-04 - val_mrcnn_bbox_loss: 0.0174 - val_bodyweight_mrcnn_mask_loss: 0.0028 - val_mrcnn_mask_loss: 0.0727\n",
      "Epoch 19/30\n",
      "100/100 [==============================] - 45s 449ms/step - loss: 0.1171 - rpn_class_loss: 4.9497e-04 - rpn_bbox_loss: 0.0334 - mrcnn_class_loss: 0.0033 - mrcnn_bbox_loss: 0.0146 - bodyweight_mrcnn_mask_loss: 0.0048 - mrcnn_mask_loss: 0.0606 - val_loss: 0.1025 - val_rpn_class_loss: 4.1395e-05 - val_rpn_bbox_loss: 0.0216 - val_mrcnn_class_loss: 1.4748e-04 - val_mrcnn_bbox_loss: 0.0117 - val_bodyweight_mrcnn_mask_loss: 9.9860e-04 - val_mrcnn_mask_loss: 0.0679\n",
      "Epoch 20/30\n",
      "100/100 [==============================] - 45s 448ms/step - loss: 0.1077 - rpn_class_loss: 5.3392e-04 - rpn_bbox_loss: 0.0287 - mrcnn_class_loss: 0.0017 - mrcnn_bbox_loss: 0.0117 - bodyweight_mrcnn_mask_loss: 0.0040 - mrcnn_mask_loss: 0.0610 - val_loss: 0.1182 - val_rpn_class_loss: 3.7259e-05 - val_rpn_bbox_loss: 0.0197 - val_mrcnn_class_loss: 1.7594e-04 - val_mrcnn_bbox_loss: 0.0141 - val_bodyweight_mrcnn_mask_loss: 7.1259e-04 - val_mrcnn_mask_loss: 0.0834\n",
      "Epoch 21/30\n",
      "100/100 [==============================] - 45s 446ms/step - loss: 0.1067 - rpn_class_loss: 6.3039e-04 - rpn_bbox_loss: 0.0287 - mrcnn_class_loss: 0.0020 - mrcnn_bbox_loss: 0.0118 - bodyweight_mrcnn_mask_loss: 0.0033 - mrcnn_mask_loss: 0.0603 - val_loss: 0.1000 - val_rpn_class_loss: 5.2725e-05 - val_rpn_bbox_loss: 0.0099 - val_mrcnn_class_loss: 2.6602e-04 - val_mrcnn_bbox_loss: 0.0119 - val_bodyweight_mrcnn_mask_loss: 0.0012 - val_mrcnn_mask_loss: 0.0767\n",
      "Epoch 22/30\n",
      "100/100 [==============================] - 44s 445ms/step - loss: 0.1052 - rpn_class_loss: 4.7347e-04 - rpn_bbox_loss: 0.0266 - mrcnn_class_loss: 0.0020 - mrcnn_bbox_loss: 0.0129 - bodyweight_mrcnn_mask_loss: 0.0034 - mrcnn_mask_loss: 0.0597 - val_loss: 0.1279 - val_rpn_class_loss: 3.8451e-05 - val_rpn_bbox_loss: 0.0292 - val_mrcnn_class_loss: 2.5861e-04 - val_mrcnn_bbox_loss: 0.0201 - val_bodyweight_mrcnn_mask_loss: 8.9472e-04 - val_mrcnn_mask_loss: 0.0774\n",
      "Epoch 23/30\n",
      "100/100 [==============================] - 45s 452ms/step - loss: 0.1031 - rpn_class_loss: 3.6042e-04 - rpn_bbox_loss: 0.0266 - mrcnn_class_loss: 0.0019 - mrcnn_bbox_loss: 0.0117 - bodyweight_mrcnn_mask_loss: 0.0032 - mrcnn_mask_loss: 0.0594 - val_loss: 0.1104 - val_rpn_class_loss: 3.4527e-05 - val_rpn_bbox_loss: 0.0143 - val_mrcnn_class_loss: 2.1162e-04 - val_mrcnn_bbox_loss: 0.0124 - val_bodyweight_mrcnn_mask_loss: 4.5874e-04 - val_mrcnn_mask_loss: 0.0831\n",
      "Epoch 24/30\n",
      "100/100 [==============================] - 44s 442ms/step - loss: 0.1006 - rpn_class_loss: 4.4294e-04 - rpn_bbox_loss: 0.0286 - mrcnn_class_loss: 0.0021 - mrcnn_bbox_loss: 0.0101 - bodyweight_mrcnn_mask_loss: 0.0029 - mrcnn_mask_loss: 0.0565 - val_loss: 0.0988 - val_rpn_class_loss: 5.6363e-05 - val_rpn_bbox_loss: 0.0089 - val_mrcnn_class_loss: 1.2255e-04 - val_mrcnn_bbox_loss: 0.0194 - val_bodyweight_mrcnn_mask_loss: 8.0447e-04 - val_mrcnn_mask_loss: 0.0694\n",
      "Epoch 25/30\n",
      "100/100 [==============================] - 43s 428ms/step - loss: 0.0961 - rpn_class_loss: 4.6534e-04 - rpn_bbox_loss: 0.0250 - mrcnn_class_loss: 0.0017 - mrcnn_bbox_loss: 0.0101 - bodyweight_mrcnn_mask_loss: 0.0025 - mrcnn_mask_loss: 0.0565 - val_loss: 0.1040 - val_rpn_class_loss: 4.4200e-05 - val_rpn_bbox_loss: 0.0160 - val_mrcnn_class_loss: 6.3606e-05 - val_mrcnn_bbox_loss: 0.0128 - val_bodyweight_mrcnn_mask_loss: 1.0907e-04 - val_mrcnn_mask_loss: 0.0749\n",
      "Epoch 26/30\n",
      "100/100 [==============================] - 42s 418ms/step - loss: 0.0979 - rpn_class_loss: 4.8892e-04 - rpn_bbox_loss: 0.0238 - mrcnn_class_loss: 0.0032 - mrcnn_bbox_loss: 0.0097 - bodyweight_mrcnn_mask_loss: 0.0026 - mrcnn_mask_loss: 0.0581 - val_loss: 0.1481 - val_rpn_class_loss: 4.1231e-05 - val_rpn_bbox_loss: 0.0492 - val_mrcnn_class_loss: 6.7790e-04 - val_mrcnn_bbox_loss: 0.0141 - val_bodyweight_mrcnn_mask_loss: 0.0014 - val_mrcnn_mask_loss: 0.0827\n",
      "Epoch 27/30\n",
      "100/100 [==============================] - 42s 416ms/step - loss: 0.0948 - rpn_class_loss: 4.5808e-04 - rpn_bbox_loss: 0.0206 - mrcnn_class_loss: 0.0037 - mrcnn_bbox_loss: 0.0106 - bodyweight_mrcnn_mask_loss: 0.0031 - mrcnn_mask_loss: 0.0563 - val_loss: 0.1706 - val_rpn_class_loss: 1.8916e-05 - val_rpn_bbox_loss: 0.0687 - val_mrcnn_class_loss: 5.8468e-04 - val_mrcnn_bbox_loss: 0.0191 - val_bodyweight_mrcnn_mask_loss: 0.0025 - val_mrcnn_mask_loss: 0.0796\n",
      "Epoch 28/30\n",
      "100/100 [==============================] - 42s 423ms/step - loss: 0.0869 - rpn_class_loss: 4.1104e-04 - rpn_bbox_loss: 0.0176 - mrcnn_class_loss: 0.0033 - mrcnn_bbox_loss: 0.0088 - bodyweight_mrcnn_mask_loss: 0.0026 - mrcnn_mask_loss: 0.0542 - val_loss: 0.1030 - val_rpn_class_loss: 3.8868e-05 - val_rpn_bbox_loss: 0.0230 - val_mrcnn_class_loss: 3.8949e-04 - val_mrcnn_bbox_loss: 0.0134 - val_bodyweight_mrcnn_mask_loss: 0.0016 - val_mrcnn_mask_loss: 0.0645\n",
      "Epoch 29/30\n",
      "100/100 [==============================] - 42s 422ms/step - loss: 0.0974 - rpn_class_loss: 3.6016e-04 - rpn_bbox_loss: 0.0252 - mrcnn_class_loss: 0.0035 - mrcnn_bbox_loss: 0.0098 - bodyweight_mrcnn_mask_loss: 0.0025 - mrcnn_mask_loss: 0.0560 - val_loss: 0.1238 - val_rpn_class_loss: 5.6450e-05 - val_rpn_bbox_loss: 0.0171 - val_mrcnn_class_loss: 3.2148e-04 - val_mrcnn_bbox_loss: 0.0181 - val_bodyweight_mrcnn_mask_loss: 0.0012 - val_mrcnn_mask_loss: 0.0870\n",
      "Epoch 30/30\n",
      "100/100 [==============================] - 42s 421ms/step - loss: 0.0856 - rpn_class_loss: 4.5123e-04 - rpn_bbox_loss: 0.0163 - mrcnn_class_loss: 0.0035 - mrcnn_bbox_loss: 0.0087 - bodyweight_mrcnn_mask_loss: 0.0023 - mrcnn_mask_loss: 0.0544 - val_loss: 0.0989 - val_rpn_class_loss: 5.3021e-05 - val_rpn_bbox_loss: 0.0166 - val_mrcnn_class_loss: 1.8769e-04 - val_mrcnn_bbox_loss: 0.0084 - val_bodyweight_mrcnn_mask_loss: 7.1885e-04 - val_mrcnn_mask_loss: 0.0729\n"
     ]
    }
   ],
   "source": [
    "!python cuy.py train --dataset=/root/Weight-Mask-R-CNN/dataset/cuy --cuyfile=/root/Weight-Mask-R-CNN/dataset/cuy/weights.txt --weights=coco"
   ]
  },
  {
   "cell_type": "code",
   "execution_count": null,
   "metadata": {
    "colab": {
     "base_uri": "https://localhost:8080/"
    },
    "id": "MHTNItlo9MB4",
    "outputId": "312a15ac-5c5d-4024-fad2-e8fdd0bab733"
   },
   "outputs": [
    {
     "name": "stdout",
     "output_type": "stream",
     "text": [
      "/root/Mask_RCNN\n"
     ]
    }
   ],
   "source": [
    "%cd ~/Mask_RCNN"
   ]
  },
  {
   "cell_type": "code",
   "execution_count": 1,
   "metadata": {
    "id": "plwGeN92-j1R"
   },
   "outputs": [
    {
     "name": "stderr",
     "output_type": "stream",
     "text": [
      "C:\\Users\\Lenovo\\anaconda3\\envs\\maskRCNN\\lib\\site-packages\\tensorflow\\python\\framework\\dtypes.py:516: FutureWarning: Passing (type, 1) or '1type' as a synonym of type is deprecated; in a future version of numpy, it will be understood as (type, (1,)) / '(1,)type'.\n",
      "  _np_qint8 = np.dtype([(\"qint8\", np.int8, 1)])\n",
      "C:\\Users\\Lenovo\\anaconda3\\envs\\maskRCNN\\lib\\site-packages\\tensorflow\\python\\framework\\dtypes.py:517: FutureWarning: Passing (type, 1) or '1type' as a synonym of type is deprecated; in a future version of numpy, it will be understood as (type, (1,)) / '(1,)type'.\n",
      "  _np_quint8 = np.dtype([(\"quint8\", np.uint8, 1)])\n",
      "C:\\Users\\Lenovo\\anaconda3\\envs\\maskRCNN\\lib\\site-packages\\tensorflow\\python\\framework\\dtypes.py:518: FutureWarning: Passing (type, 1) or '1type' as a synonym of type is deprecated; in a future version of numpy, it will be understood as (type, (1,)) / '(1,)type'.\n",
      "  _np_qint16 = np.dtype([(\"qint16\", np.int16, 1)])\n",
      "C:\\Users\\Lenovo\\anaconda3\\envs\\maskRCNN\\lib\\site-packages\\tensorflow\\python\\framework\\dtypes.py:519: FutureWarning: Passing (type, 1) or '1type' as a synonym of type is deprecated; in a future version of numpy, it will be understood as (type, (1,)) / '(1,)type'.\n",
      "  _np_quint16 = np.dtype([(\"quint16\", np.uint16, 1)])\n",
      "C:\\Users\\Lenovo\\anaconda3\\envs\\maskRCNN\\lib\\site-packages\\tensorflow\\python\\framework\\dtypes.py:520: FutureWarning: Passing (type, 1) or '1type' as a synonym of type is deprecated; in a future version of numpy, it will be understood as (type, (1,)) / '(1,)type'.\n",
      "  _np_qint32 = np.dtype([(\"qint32\", np.int32, 1)])\n",
      "C:\\Users\\Lenovo\\anaconda3\\envs\\maskRCNN\\lib\\site-packages\\tensorflow\\python\\framework\\dtypes.py:525: FutureWarning: Passing (type, 1) or '1type' as a synonym of type is deprecated; in a future version of numpy, it will be understood as (type, (1,)) / '(1,)type'.\n",
      "  np_resource = np.dtype([(\"resource\", np.ubyte, 1)])\n",
      "C:\\Users\\Lenovo\\anaconda3\\envs\\maskRCNN\\lib\\site-packages\\tensorboard\\compat\\tensorflow_stub\\dtypes.py:541: FutureWarning: Passing (type, 1) or '1type' as a synonym of type is deprecated; in a future version of numpy, it will be understood as (type, (1,)) / '(1,)type'.\n",
      "  _np_qint8 = np.dtype([(\"qint8\", np.int8, 1)])\n",
      "C:\\Users\\Lenovo\\anaconda3\\envs\\maskRCNN\\lib\\site-packages\\tensorboard\\compat\\tensorflow_stub\\dtypes.py:542: FutureWarning: Passing (type, 1) or '1type' as a synonym of type is deprecated; in a future version of numpy, it will be understood as (type, (1,)) / '(1,)type'.\n",
      "  _np_quint8 = np.dtype([(\"quint8\", np.uint8, 1)])\n",
      "C:\\Users\\Lenovo\\anaconda3\\envs\\maskRCNN\\lib\\site-packages\\tensorboard\\compat\\tensorflow_stub\\dtypes.py:543: FutureWarning: Passing (type, 1) or '1type' as a synonym of type is deprecated; in a future version of numpy, it will be understood as (type, (1,)) / '(1,)type'.\n",
      "  _np_qint16 = np.dtype([(\"qint16\", np.int16, 1)])\n",
      "C:\\Users\\Lenovo\\anaconda3\\envs\\maskRCNN\\lib\\site-packages\\tensorboard\\compat\\tensorflow_stub\\dtypes.py:544: FutureWarning: Passing (type, 1) or '1type' as a synonym of type is deprecated; in a future version of numpy, it will be understood as (type, (1,)) / '(1,)type'.\n",
      "  _np_quint16 = np.dtype([(\"quint16\", np.uint16, 1)])\n",
      "C:\\Users\\Lenovo\\anaconda3\\envs\\maskRCNN\\lib\\site-packages\\tensorboard\\compat\\tensorflow_stub\\dtypes.py:545: FutureWarning: Passing (type, 1) or '1type' as a synonym of type is deprecated; in a future version of numpy, it will be understood as (type, (1,)) / '(1,)type'.\n",
      "  _np_qint32 = np.dtype([(\"qint32\", np.int32, 1)])\n",
      "C:\\Users\\Lenovo\\anaconda3\\envs\\maskRCNN\\lib\\site-packages\\tensorboard\\compat\\tensorflow_stub\\dtypes.py:550: FutureWarning: Passing (type, 1) or '1type' as a synonym of type is deprecated; in a future version of numpy, it will be understood as (type, (1,)) / '(1,)type'.\n",
      "  np_resource = np.dtype([(\"resource\", np.ubyte, 1)])\n",
      "Using TensorFlow backend.\n"
     ]
    }
   ],
   "source": [
    "import os\n",
    "import cv2\n",
    "import sys\n",
    "import random\n",
    "import math\n",
    "import re\n",
    "import time\n",
    "import numpy as np\n",
    "import tensorflow as tf\n",
    "import matplotlib\n",
    "import matplotlib.pyplot as plt\n",
    "import matplotlib.patches as patches\n",
    "import skimage\n",
    "import glob\n",
    "import utils\n",
    "import visualize\n",
    "from visualize import display_images\n",
    "import model as modellib\n",
    "from model import log\n",
    "\n",
    "import cuy\n",
    "\n",
    "# Root directory of the project\n",
    "ROOT_DIR = os.getcwd()\n",
    "#ROOT_DIR = '/root/Mask_RCNN/'"
   ]
  },
  {
   "cell_type": "code",
   "execution_count": 2,
   "metadata": {},
   "outputs": [
    {
     "data": {
      "text/plain": [
       "'C:\\\\Users\\\\Lenovo\\\\Documents\\\\GitHub\\\\Keypoints-of-humanpose-with-Mask-R-CNN\\\\mask_weight_rcnn_cuy_0030.h5'"
      ]
     },
     "execution_count": 2,
     "metadata": {},
     "output_type": "execute_result"
    }
   ],
   "source": [
    "custom_WEIGHTS_PATH = 'C:\\\\Users\\\\Lenovo\\\\Documents\\\\GitHub\\\\Keypoints-of-humanpose-with-Mask-R-CNN\\\\mask_weight_rcnn_cuy_0030.h5'\n",
    "custom_WEIGHTS_PATH"
   ]
  },
  {
   "cell_type": "code",
   "execution_count": 3,
   "metadata": {},
   "outputs": [],
   "source": [
    "file_BODYWEIGHT_PATH = 'C:\\\\Users\\\\Lenovo\\\\Documents\\\\GitHub\\\\Keypoints-of-humanpose-with-Mask-R-CNN\\\\dataset\\\\cuy\\\\weights.txt'"
   ]
  },
  {
   "cell_type": "code",
   "execution_count": 4,
   "metadata": {
    "colab": {
     "base_uri": "https://localhost:8080/"
    },
    "id": "PPJ_LevT4a2d",
    "outputId": "72051151-d454-417c-f2c4-22f055028f62"
   },
   "outputs": [
    {
     "name": "stdout",
     "output_type": "stream",
     "text": [
      "\n",
      "Configurations Superlee:\n",
      "BACKBONE                       resnet50\n",
      "BACKBONE_SHAPES                [[160 160]\n",
      " [ 80  80]\n",
      " [ 40  40]\n",
      " [ 20  20]\n",
      " [ 10  10]]\n",
      "BACKBONE_STRIDES               [4, 8, 16, 32, 64]\n",
      "BATCH_SIZE                     1\n",
      "BBOX_STD_DEV                   [0.1 0.1 0.2 0.2]\n",
      "DETECTION_MAX_INSTANCES        10\n",
      "DETECTION_MIN_CONFIDENCE       0.9\n",
      "DETECTION_NMS_THRESHOLD        0.3\n",
      "GPU_COUNT                      1\n",
      "IMAGES_PER_GPU                 1\n",
      "IMAGE_MAX_DIM                  640\n",
      "IMAGE_MIN_DIM                  640\n",
      "IMAGE_PADDING                  True\n",
      "IMAGE_RESIZE_MODE              square\n",
      "IMAGE_SHAPE                    [640 640   3]\n",
      "LEARNING_MOMENTUM              0.9\n",
      "LEARNING_RATE                  0.001\n",
      "MASK_POOL_SIZE                 14\n",
      "MASK_SHAPE                     [56, 56]\n",
      "MAX_GT_INSTANCES               50\n",
      "MEAN_PIXEL                     [123.7 116.8 103.9]\n",
      "MINI_MASK_SHAPE                (56, 56)\n",
      "NAME                           cuy\n",
      "NUM_CLASSES                    2\n",
      "NUM_KEYPOINTS                  17\n",
      "POOL_SIZE                      7\n",
      "POST_NMS_ROIS_INFERENCE        1000\n",
      "POST_NMS_ROIS_TRAINING         2000\n",
      "ROI_POSITIVE_RATIO             0.33\n",
      "RPN_ANCHOR_RATIOS              [0.5, 1, 2]\n",
      "RPN_ANCHOR_SCALES              (32, 64, 128, 256, 512)\n",
      "RPN_ANCHOR_STRIDE              1\n",
      "RPN_BBOX_STD_DEV               [0.1 0.1 0.2 0.2]\n",
      "RPN_NMS_THRESHOLD              0.7\n",
      "RPN_TRAIN_ANCHORS_PER_IMAGE    256\n",
      "STEPS_PER_EPOCH                100\n",
      "TRAIN_ROIS_PER_IMAGE           100\n",
      "USE_MINI_MASK                  True\n",
      "USE_RPN_ROIS                   True\n",
      "VALIDATION_STEPS               50\n",
      "WEIGHT_DECAY                   0.0001\n",
      "\n",
      "\n",
      "Images: 17\n",
      "Classes: ['BG', 'cuy']\n",
      "WARNING:tensorflow:From C:\\Users\\Lenovo\\anaconda3\\envs\\maskRCNN\\lib\\site-packages\\keras\\backend\\tensorflow_backend.py:508: The name tf.placeholder is deprecated. Please use tf.compat.v1.placeholder instead.\n",
      "\n",
      "WARNING:tensorflow:From C:\\Users\\Lenovo\\anaconda3\\envs\\maskRCNN\\lib\\site-packages\\keras\\backend\\tensorflow_backend.py:68: The name tf.get_default_graph is deprecated. Please use tf.compat.v1.get_default_graph instead.\n",
      "\n",
      "WARNING:tensorflow:From C:\\Users\\Lenovo\\anaconda3\\envs\\maskRCNN\\lib\\site-packages\\keras\\backend\\tensorflow_backend.py:3837: The name tf.random_uniform is deprecated. Please use tf.random.uniform instead.\n",
      "\n",
      "WARNING:tensorflow:From C:\\Users\\Lenovo\\anaconda3\\envs\\maskRCNN\\lib\\site-packages\\keras\\backend\\tensorflow_backend.py:3661: The name tf.nn.max_pool is deprecated. Please use tf.nn.max_pool2d instead.\n",
      "\n",
      "WARNING:tensorflow:From C:\\Users\\Lenovo\\anaconda3\\envs\\maskRCNN\\lib\\site-packages\\keras\\backend\\tensorflow_backend.py:1944: The name tf.image.resize_nearest_neighbor is deprecated. Please use tf.compat.v1.image.resize_nearest_neighbor instead.\n",
      "\n",
      "WARNING:tensorflow:From C:\\Users\\Lenovo\\Documents\\GitHub\\Keypoints-of-humanpose-with-Mask-R-CNN\\model.py:320: The name tf.log is deprecated. Please use tf.math.log instead.\n",
      "\n",
      "WARNING:tensorflow:From C:\\Users\\Lenovo\\Documents\\GitHub\\Keypoints-of-humanpose-with-Mask-R-CNN\\model.py:374: add_dispatch_support.<locals>.wrapper (from tensorflow.python.ops.array_ops) is deprecated and will be removed in a future version.\n",
      "Instructions for updating:\n",
      "Use tf.where in 2.0, which has the same broadcast rule as np.where\n",
      "WARNING:tensorflow:From C:\\Users\\Lenovo\\Documents\\GitHub\\Keypoints-of-humanpose-with-Mask-R-CNN\\model.py:398: calling crop_and_resize_v1 (from tensorflow.python.ops.image_ops_impl) with box_ind is deprecated and will be removed in a future version.\n",
      "Instructions for updating:\n",
      "box_ind is deprecated, use box_indices instead\n",
      "WARNING:tensorflow:From C:\\Users\\Lenovo\\Documents\\GitHub\\Keypoints-of-humanpose-with-Mask-R-CNN\\model.py:897: The name tf.rint is deprecated. Please use tf.math.rint instead.\n",
      "\n",
      "WARNING:tensorflow:From C:\\Users\\Lenovo\\Documents\\GitHub\\Keypoints-of-humanpose-with-Mask-R-CNN\\model.py:897: to_int32 (from tensorflow.python.ops.math_ops) is deprecated and will be removed in a future version.\n",
      "Instructions for updating:\n",
      "Use `tf.cast` instead.\n",
      "WARNING:tensorflow:From C:\\Users\\Lenovo\\Documents\\GitHub\\Keypoints-of-humanpose-with-Mask-R-CNN\\model.py:906: The name tf.sets.set_intersection is deprecated. Please use tf.sets.intersection instead.\n",
      "\n",
      "WARNING:tensorflow:From C:\\Users\\Lenovo\\Documents\\GitHub\\Keypoints-of-humanpose-with-Mask-R-CNN\\model.py:924: to_float (from tensorflow.python.ops.math_ops) is deprecated and will be removed in a future version.\n",
      "Instructions for updating:\n",
      "Use `tf.cast` instead.\n",
      "Loading weights  C:\\Users\\Lenovo\\Documents\\GitHub\\Keypoints-of-humanpose-with-Mask-R-CNN\\mask_weight_rcnn_cuy_0030.h5\n"
     ]
    },
    {
     "data": {
      "text/plain": [
       "<module 'visualize' from 'C:\\\\Users\\\\Lenovo\\\\Documents\\\\GitHub\\\\Keypoints-of-humanpose-with-Mask-R-CNN\\\\visualize.py'>"
      ]
     },
     "execution_count": 4,
     "metadata": {},
     "output_type": "execute_result"
    }
   ],
   "source": [
    "\n",
    "%matplotlib inline \n",
    "\n",
    "# Directory to save logs and trained model\n",
    "MODEL_DIR = os.path.join(ROOT_DIR, \"logs\")\n",
    "\n",
    "config = cuy.CuyConfig()\n",
    "custom_DIR = os.path.join(ROOT_DIR, \"dataset/cuy\")\n",
    "\n",
    "class InferenceConfig(config.__class__):\n",
    "    # Run detection on one image at a time\n",
    "    GPU_COUNT = 1\n",
    "    IMAGES_PER_GPU = 1\n",
    "\n",
    "config = InferenceConfig()\n",
    "config.display()\n",
    "\n",
    "# Device to load the neural network on.\n",
    "# Useful if you're training a model on the same \n",
    "# machine, in which case use CPU and leave the\n",
    "# GPU for training.\n",
    "DEVICE = \"/gpu:0\"  # /cpu:0 or /gpu:0\n",
    "\n",
    "# Inspect the model in training or inference modes\n",
    "# values: 'inference' or 'training'\n",
    "# TODO: code for 'training' test mode not ready yet\n",
    "TEST_MODE = \"inference\"\n",
    "\n",
    "def get_ax(rows=1, cols=1, size=16):\n",
    "    \"\"\"Return a Matplotlib Axes array to be used in\n",
    "    all visualizations in the notebook. Provide a\n",
    "    central point to control graph sizes.\n",
    "    \n",
    "    Adjust the size attribute to control how big to render images\n",
    "    \"\"\"\n",
    "    _, ax = plt.subplots(rows, cols, figsize=(size*cols, size*rows))\n",
    "    return ax\n",
    "  \n",
    "# Load validation dataset\n",
    "dataset = cuy.CuyDataset()\n",
    "dataset.load_dataset(custom_DIR, \"val\", file_BODYWEIGHT_PATH)\n",
    "\n",
    "# Must call before using the dataset\n",
    "dataset.prepare()\n",
    "\n",
    "print(\"Images: {}\\nClasses: {}\".format(len(dataset.image_ids), dataset.class_names))\n",
    "\n",
    "# Create model in inference mode\n",
    "with tf.device(DEVICE):\n",
    "    model = modellib.MaskRCNN(mode=\"inference\", model_dir=MODEL_DIR,\n",
    "                              config=config)\n",
    "\n",
    "# load the last model you trained\n",
    "# weights_path = model.find_last()[1]\n",
    "\n",
    "# Load weights\n",
    "print(\"Loading weights \", custom_WEIGHTS_PATH)\n",
    "model.load_weights(custom_WEIGHTS_PATH, by_name=True)\n",
    "\n",
    "from importlib import reload # was constantly changin the visualization, so I decided to reload it instead of notebook\n",
    "reload(visualize)"
   ]
  },
  {
   "cell_type": "code",
   "execution_count": 6,
   "metadata": {
    "colab": {
     "base_uri": "https://localhost:8080/",
     "height": 1000
    },
    "id": "K_eiWln3_swG",
    "outputId": "fca1ca01-6604-4526-ffcc-ed9a981a8ec7"
   },
   "outputs": [
    {
     "name": "stdout",
     "output_type": "stream",
     "text": [
      "image ID: dataset.DSC_0301 (0) C:\\Users\\Lenovo\\Documents\\GitHub\\Keypoints-of-humanpose-with-Mask-R-CNN\\dataset/cuy\\val\\DSC_0301.jpg\n",
      "Processing 1 images\n",
      "image                    shape: (640, 640, 3)         min:    0.00000  max:  255.00000\n",
      "molded_images            shape: (1, 640, 640, 3)      min: -121.70000  max:  131.30000\n",
      "image_metas              shape: (1, 10)               min:    0.00000  max:  640.00000\n",
      "windows                  shape: (1, 4)                min:    0.00000  max:  640.00000\n",
      "rpn_class                shape: (1, 102300, 2)        min:    0.00000  max:    1.00000\n",
      "rpn_bbox                 shape: (1, 102300, 4)        min:   -5.51311  max:  113.31130\n",
      "rois                     shape: (1, 1000, 4)          min:    0.00000  max:    1.00000\n",
      "mrcnn_class              shape: (1, 1000, 2)          min:    0.00000  max:    1.00000\n",
      "mrcnn_bbox               shape: (1, 1000, 2, 4)       min:   -4.69835  max:    3.26445\n",
      "detections               shape: (1, 10, 6)            min:    0.00000  max:  428.00000\n",
      "mrcnn_mask               shape: (1, 10, 56, 56, 2)    min:    0.00000  max:    1.00000\n",
      "mrcnn_bodyweight         shape: (1, 1000, 2)          min:   -1.22373  max:    3.39167\n"
     ]
    },
    {
     "ename": "UnboundLocalError",
     "evalue": "local variable 'bodyweights' referenced before assignment",
     "output_type": "error",
     "traceback": [
      "\u001b[1;31m---------------------------------------------------------------------------\u001b[0m",
      "\u001b[1;31mUnboundLocalError\u001b[0m                         Traceback (most recent call last)",
      "\u001b[1;32m<ipython-input-6-174569acab73>\u001b[0m in \u001b[0;36m<module>\u001b[1;34m\u001b[0m\n\u001b[0;32m      8\u001b[0m \u001b[1;33m\u001b[0m\u001b[0m\n\u001b[0;32m      9\u001b[0m     \u001b[1;31m# Run object detection\u001b[0m\u001b[1;33m\u001b[0m\u001b[1;33m\u001b[0m\u001b[1;33m\u001b[0m\u001b[0m\n\u001b[1;32m---> 10\u001b[1;33m     \u001b[0mresults\u001b[0m \u001b[1;33m=\u001b[0m \u001b[0mmodel\u001b[0m\u001b[1;33m.\u001b[0m\u001b[0mdetect_keypoint\u001b[0m\u001b[1;33m(\u001b[0m\u001b[1;33m[\u001b[0m\u001b[0mimage\u001b[0m\u001b[1;33m]\u001b[0m\u001b[1;33m,\u001b[0m \u001b[0mverbose\u001b[0m\u001b[1;33m=\u001b[0m\u001b[1;36m1\u001b[0m\u001b[1;33m)\u001b[0m\u001b[1;33m\u001b[0m\u001b[1;33m\u001b[0m\u001b[0m\n\u001b[0m\u001b[0;32m     11\u001b[0m \u001b[1;33m\u001b[0m\u001b[0m\n\u001b[0;32m     12\u001b[0m     \u001b[1;31m# Display results\u001b[0m\u001b[1;33m\u001b[0m\u001b[1;33m\u001b[0m\u001b[1;33m\u001b[0m\u001b[0m\n",
      "\u001b[1;32m~\\Documents\\GitHub\\Keypoints-of-humanpose-with-Mask-R-CNN\\model.py\u001b[0m in \u001b[0;36mdetect_keypoint\u001b[1;34m(self, images, verbose)\u001b[0m\n\u001b[0;32m   3251\u001b[0m             \u001b[0mfinal_rois\u001b[0m\u001b[1;33m,\u001b[0m \u001b[0mfinal_class_ids\u001b[0m\u001b[1;33m,\u001b[0m \u001b[0mfinal_scores\u001b[0m\u001b[1;33m,\u001b[0m \u001b[0mfinal_bodyweight\u001b[0m\u001b[1;33m,\u001b[0m\u001b[0mfinal_masks\u001b[0m\u001b[1;33m=\u001b[0m\u001b[0;31m\\\u001b[0m\u001b[1;33m\u001b[0m\u001b[1;33m\u001b[0m\u001b[0m\n\u001b[0;32m   3252\u001b[0m                 self.unmold_keypoint_detections(detections[i], mrcnn_bodyweight[i],\n\u001b[1;32m-> 3253\u001b[1;33m                                        image.shape, windows[i],mrcnn_mask[i])\n\u001b[0m\u001b[0;32m   3254\u001b[0m             results.append({\n\u001b[0;32m   3255\u001b[0m                 \u001b[1;34m\"rois\"\u001b[0m\u001b[1;33m:\u001b[0m \u001b[0mfinal_rois\u001b[0m\u001b[1;33m,\u001b[0m\u001b[1;33m\u001b[0m\u001b[1;33m\u001b[0m\u001b[0m\n",
      "\u001b[1;32m~\\Documents\\GitHub\\Keypoints-of-humanpose-with-Mask-R-CNN\\model.py\u001b[0m in \u001b[0;36munmold_keypoint_detections\u001b[1;34m(self, detections, mrcnn_bodyweight, image_shape, window, mrcnn_mask)\u001b[0m\n\u001b[0;32m   3158\u001b[0m             \u001b[1;32mif\u001b[0m \u001b[0mfull_masks\u001b[0m \u001b[1;32melse\u001b[0m \u001b[0mnp\u001b[0m\u001b[1;33m.\u001b[0m\u001b[0mempty\u001b[0m\u001b[1;33m(\u001b[0m\u001b[1;33m(\u001b[0m\u001b[1;36m0\u001b[0m\u001b[1;33m,\u001b[0m\u001b[1;33m)\u001b[0m \u001b[1;33m+\u001b[0m \u001b[0mmasks\u001b[0m\u001b[1;33m.\u001b[0m\u001b[0mshape\u001b[0m\u001b[1;33m[\u001b[0m\u001b[1;36m1\u001b[0m\u001b[1;33m:\u001b[0m\u001b[1;36m3\u001b[0m\u001b[1;33m]\u001b[0m\u001b[1;33m)\u001b[0m\u001b[1;33m\u001b[0m\u001b[1;33m\u001b[0m\u001b[0m\n\u001b[0;32m   3159\u001b[0m \u001b[1;33m\u001b[0m\u001b[0m\n\u001b[1;32m-> 3160\u001b[1;33m         \u001b[1;32mreturn\u001b[0m \u001b[0mboxes\u001b[0m\u001b[1;33m,\u001b[0m \u001b[0mclass_ids\u001b[0m\u001b[1;33m,\u001b[0m \u001b[0mscores\u001b[0m\u001b[1;33m,\u001b[0m \u001b[0mfull_masks\u001b[0m\u001b[1;33m,\u001b[0m \u001b[0mbodyweights\u001b[0m\u001b[1;33m\u001b[0m\u001b[1;33m\u001b[0m\u001b[0m\n\u001b[0m\u001b[0;32m   3161\u001b[0m \u001b[1;33m\u001b[0m\u001b[0m\n\u001b[0;32m   3162\u001b[0m \u001b[1;33m\u001b[0m\u001b[0m\n",
      "\u001b[1;31mUnboundLocalError\u001b[0m: local variable 'bodyweights' referenced before assignment"
     ]
    }
   ],
   "source": [
    "#image_id = random.choice(dataset.image_ids)\n",
    "for image_id in dataset.image_ids:\n",
    "    image, image_meta, gt_class_id, gt_bbox, gt_mask, gt_weight =\\\n",
    "          modellib.load_image_gt_keypoints(dataset, config, image_id, use_mini_mask=False)\n",
    "    info = dataset.image_info[image_id]\n",
    "    print(\"image ID: {}.{} ({}) {}\".format(info[\"source\"], info[\"id\"], image_id, \n",
    "                                         dataset.image_reference(image_id)))\n",
    "\n",
    "    # Run object detection\n",
    "    results = model.detect_keypoint([image], verbose=1)\n",
    "\n",
    "    # Display results\n",
    "    ax = get_ax(1)\n",
    "    r = results[0]\n",
    "    visualize.display_instances_bw(image, r['rois'], r['masks'], r['bodyweight'] ,r['class_ids'], \n",
    "                              dataset.class_names, r['scores'], ax=ax,\n",
    "                              title=\"Predictions\")\n",
    "    log(\"gt_class_id\", gt_class_id)\n",
    "    log(\"gt_bbox\", gt_bbox)\n",
    "    log(\"gt_mask\", gt_mask)\n",
    "    log(\"gt_bodyweight\", gt_weight)\n"
   ]
  },
  {
   "cell_type": "code",
   "execution_count": null,
   "metadata": {},
   "outputs": [],
   "source": [
    "# Test on a random image\n",
    "image_id = random.choice(val_dataset_keypoints.image_ids)\n",
    "original_image, image_meta, gt_class_id, gt_bbox, gt_mask, gt_keypoint =\\\n",
    "    modellib.load_image_gt_keypoints(val_dataset_keypoints, inference_config, \n",
    "                           image_id, augment=False,use_mini_mask=inference_config.USE_MINI_MASK)\n",
    "\n",
    "log(\"original_image\", original_image)\n",
    "log(\"image_meta\", image_meta)\n",
    "log(\"gt_class_id\", gt_class_id)\n",
    "log(\"gt_bbox\", gt_bbox)\n",
    "log(\"gt_mask\", gt_mask)\n",
    "log(\"gt_keypoint\", gt_keypoint)\n",
    "visualize.display_keypoints(original_image,gt_bbox,gt_keypoint,gt_class_id,val_dataset_keypoints.class_names，skeleton = inference_config.LIMBS)\n",
    "if(inference_config.USE_MINI_MASK):\n",
    "    gt_mask = utils.expand_mask(gt_bbox,gt_mask,original_image.shape)\n",
    "visualize.display_instances(original_image, gt_bbox, gt_mask, gt_class_id, \n",
    "                            val_dataset_keypoints.class_names,)"
   ]
  }
 ],
 "metadata": {
  "accelerator": "GPU",
  "colab": {
   "collapsed_sections": [],
   "name": "Cuy Weight Mask RCNN.ipynb",
   "provenance": []
  },
  "kernelspec": {
   "display_name": "Python 3",
   "language": "python",
   "name": "python3"
  },
  "language_info": {
   "codemirror_mode": {
    "name": "ipython",
    "version": 3
   },
   "file_extension": ".py",
   "mimetype": "text/x-python",
   "name": "python",
   "nbconvert_exporter": "python",
   "pygments_lexer": "ipython3",
   "version": "3.6.13"
  }
 },
 "nbformat": 4,
 "nbformat_minor": 1
}
