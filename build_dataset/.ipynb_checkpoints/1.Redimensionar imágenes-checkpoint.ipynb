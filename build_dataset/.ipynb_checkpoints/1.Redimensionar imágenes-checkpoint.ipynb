{
 "cells": [
  {
   "cell_type": "markdown",
   "metadata": {},
   "source": [
    "## Redimensionamiento de imágenes\n",
    "Para la redimensión de imágenes a un tamaño predeterminado (640 x 640), se necesita tener las imágenes dentro de una carpeta, además de un documento de texto (.txt) donde esten los pares de imágenes y peso medido (así como se ve en la siguiente imagen)."
   ]
  },
  {
   "attachments": {
    "txt%20formato.png": {
     "image/png": "[encoded data removed]"
    }
   },
   "cell_type": "markdown",
   "metadata": {},
   "source": [
    "![txt%20formato.png](attachment:txt%20formato.png)"
   ]
  },
  {
   "cell_type": "markdown",
   "metadata": {},
   "source": [
    "Las librerias que se necesitan son las siguientes:"
   ]
  },
  {
   "cell_type": "code",
   "execution_count": null,
   "metadata": {},
   "outputs": [],
   "source": [
    "import os\n",
    "import cv2"
   ]
  },
  {
   "cell_type": "code",
   "execution_count": null,
   "metadata": {},
   "outputs": [],
   "source": [
    "path_from = 'D:\\\\Images' # Ruta de las imágenes\n",
    "path_to = 'D:\\\\ImagesResize' # Ruta para guardar las imágenes redimensionadas\n",
    "file_path = 'D:\\\\bw.txt' # Ruta del archivo texto con la lista de imágenes y sus pesos\n",
    "# Abrir el archivo y leer todas las lineas\n",
    "file = open(file_path,'r')\n",
    "lines = file.readlines()\n",
    "for line in lines:\n",
    "    filename = line.split(' ')\n",
    "    image = cv2.imread(os.path.join(path, filename[0]),1)\n",
    "    new_image = cv2.resize(image, (640,640)) # formato al que se redimensionará la imagen\n",
    "    cv2.imwrite(os.path.join(path2, filename[0]), new_image) # guardar con el mismo nombre\n",
    "    print('Saving the file {}'.format(filename))"
   ]
  },
  {
   "cell_type": "markdown",
   "metadata": {},
   "source": [
    "Luego de redimensionar las imágenes, para proceder a procesar las máscaras, se hizo uso de Labelbox (https://labelbox.com/), donde se suben todas las imágenes y se segmenta cada una con la herramienta lapiz."
   ]
  }
 ],
 "metadata": {
  "kernelspec": {
   "display_name": "Python 3",
   "language": "python",
   "name": "python3"
  },
  "language_info": {
   "codemirror_mode": {
    "name": "ipython",
    "version": 3
   },
   "file_extension": ".py",
   "mimetype": "text/x-python",
   "name": "python",
   "nbconvert_exporter": "python",
   "pygments_lexer": "ipython3",
   "version": "3.7.10"
  }
 },
 "nbformat": 4,
 "nbformat_minor": 2
}
