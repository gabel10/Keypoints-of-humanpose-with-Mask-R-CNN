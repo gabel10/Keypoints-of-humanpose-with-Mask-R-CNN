{
 "cells": [
  {
   "cell_type": "markdown",
   "metadata": {},
   "source": [
    "## Descargar máscaras de Labelbox"
   ]
  },
  {
   "cell_type": "markdown",
   "metadata": {},
   "source": [
    "Aquí se procederá a descargar las máscaras realizadas con Labelbox.\n",
    "    1. Se tiene que exportar un documento .json de la sección Export de nuestro proyecto.\n",
    "    2. Con la ruta del documento exportado, descargamos las máscaras usando download.py"
   ]
  },
  {
   "cell_type": "markdown",
   "metadata": {},
   "source": [
    "Indicar que para la descarga, se usaron los objetos con la etiqueta 'cuy', caso se realice con otra etiqueta modificar el archivo 'download.py'.\n",
    "Además que la ruta de salida es 'Downloads/LBData'"
   ]
  },
  {
   "cell_type": "code",
   "execution_count": null,
   "metadata": {},
   "outputs": [],
   "source": [
    "!python download_masks.py <FILENAME>"
   ]
  }
 ],
 "metadata": {
  "kernelspec": {
   "display_name": "Python 3",
   "language": "python",
   "name": "python3"
  },
  "language_info": {
   "codemirror_mode": {
    "name": "ipython",
    "version": 3
   },
   "file_extension": ".py",
   "mimetype": "text/x-python",
   "name": "python",
   "nbconvert_exporter": "python",
   "pygments_lexer": "ipython3",
   "version": "3.7.10"
  }
 },
 "nbformat": 4,
 "nbformat_minor": 2
}
